{
 "cells": [
  {
   "cell_type": "markdown",
   "id": "df872c73",
   "metadata": {},
   "source": [
    "# **Funciones**"
   ]
  },
  {
   "cell_type": "markdown",
   "id": "ed4bf0b0",
   "metadata": {},
   "source": [
    "Una función se define en python con: \n",
    "\n",
    "\n",
    ">*def* nombre_de_la_función():\n",
    ">print(\"lo que quieres que imprima en la consola\")\n",
    "\n",
    "o\n",
    "\n",
    ">*def* otra_función(x):\n",
    ">    resultado = x + 5\n",
    ">    return resultado"
   ]
  },
  {
   "cell_type": "code",
   "execution_count": 33,
   "id": "74479295",
   "metadata": {},
   "outputs": [],
   "source": [
    "def otra_función(x):\n",
    "    resultado = x + 5\n",
    "    return resultado"
   ]
  },
  {
   "cell_type": "code",
   "execution_count": 35,
   "id": "2531edb4",
   "metadata": {},
   "outputs": [
    {
     "name": "stdout",
     "output_type": "stream",
     "text": [
      "9\n"
     ]
    }
   ],
   "source": [
    "print(otra_función(4))"
   ]
  },
  {
   "cell_type": "code",
   "execution_count": 27,
   "id": "6dfc9d2a",
   "metadata": {},
   "outputs": [],
   "source": [
    "def funcion():\n",
    "    print(\"primera\")"
   ]
  },
  {
   "cell_type": "code",
   "execution_count": 21,
   "id": "7e401927",
   "metadata": {},
   "outputs": [
    {
     "name": "stdout",
     "output_type": "stream",
     "text": [
      "primera\n"
     ]
    }
   ],
   "source": [
    "funcion()"
   ]
  },
  {
   "cell_type": "markdown",
   "id": "d18c4af5",
   "metadata": {},
   "source": [
    "# Funciones de aritmetica\n",
    "* ## Función de suma"
   ]
  },
  {
   "cell_type": "code",
   "execution_count": null,
   "id": "abe4f3c3",
   "metadata": {},
   "outputs": [],
   "source": [
    "def suma_tres(num):\n",
    "    result = num + 3\n",
    "    return result"
   ]
  },
  {
   "cell_type": "code",
   "execution_count": 12,
   "id": "17752b47",
   "metadata": {},
   "outputs": [
    {
     "name": "stdout",
     "output_type": "stream",
     "text": [
      "7\n"
     ]
    }
   ],
   "source": [
    "print(suma_tres(4)) # salida 7"
   ]
  },
  {
   "cell_type": "markdown",
   "id": "7fb4e9f9",
   "metadata": {},
   "source": [
    "* ## Función de potencias"
   ]
  },
  {
   "cell_type": "code",
   "execution_count": 16,
   "id": "ca9a58be",
   "metadata": {},
   "outputs": [],
   "source": [
    "def cubo(num):\n",
    "    return num * num * num  "
   ]
  },
  {
   "cell_type": "code",
   "execution_count": 18,
   "id": "a5853f68",
   "metadata": {},
   "outputs": [
    {
     "name": "stdout",
     "output_type": "stream",
     "text": [
      "27\n"
     ]
    }
   ],
   "source": [
    "print(cubo(3)) # salida 27"
   ]
  },
  {
   "cell_type": "markdown",
   "id": "6028afb3",
   "metadata": {},
   "source": [
    "* ## Función de división\n",
    "#### Más de una variable"
   ]
  },
  {
   "cell_type": "code",
   "execution_count": 38,
   "id": "f180f5c7",
   "metadata": {},
   "outputs": [],
   "source": [
    "def division(num1, num2): #para meter mas de una variable solo se pone la coma\n",
    "    return num1 / num2"
   ]
  },
  {
   "cell_type": "code",
   "execution_count": 36,
   "id": "97741634",
   "metadata": {},
   "outputs": [
    {
     "name": "stdout",
     "output_type": "stream",
     "text": [
      "1.0\n"
     ]
    }
   ],
   "source": [
    "print(division(3,3))"
   ]
  },
  {
   "cell_type": "code",
   "execution_count": 40,
   "id": "be00be7b",
   "metadata": {},
   "outputs": [],
   "source": [
    "def suma_dos_numeros(g, h):\n",
    "    return g + h \n"
   ]
  },
  {
   "cell_type": "code",
   "execution_count": 42,
   "id": "17042ddd",
   "metadata": {},
   "outputs": [
    {
     "name": "stdout",
     "output_type": "stream",
     "text": [
      "5\n"
     ]
    }
   ],
   "source": [
    "print(suma_dos_numeros(3, 2))"
   ]
  },
  {
   "cell_type": "markdown",
   "id": "d8ae3fd5",
   "metadata": {},
   "source": [
    "# Composición de funciones\n",
    "\n",
    "Usando las funciones ya definidas arriba se hará una función que las concatene, por ejemplo, metemos la función ***suma_dos_numeros*** y el resultado que lo eleve al cubo con ***cubo***"
   ]
  },
  {
   "cell_type": "code",
   "execution_count": null,
   "id": "baffffe0",
   "metadata": {},
   "outputs": [],
   "source": [
    "def operacion_compuesta(num1, num2):\n",
    "    return cubo(suma_dos_numeros(num1, num2))"
   ]
  },
  {
   "cell_type": "markdown",
   "id": "069d6a6e",
   "metadata": {},
   "source": [
    "La función se llama *operación_compuesta* con variables num1 y num2 (dos variables), el *return* nos regresa el cubo de la suma de las dos variables num1 y num2 (funciones ya definidas arriba) que le pasamos con el print:"
   ]
  },
  {
   "cell_type": "code",
   "execution_count": 50,
   "id": "348f1168",
   "metadata": {},
   "outputs": [
    {
     "name": "stdout",
     "output_type": "stream",
     "text": [
      "729\n"
     ]
    }
   ],
   "source": [
    "print(operacion_compuesta(4,5))"
   ]
  },
  {
   "cell_type": "markdown",
   "id": "3822af1c",
   "metadata": {},
   "source": [
    "### $$ f(x) =\\dfrac{1}{x+9}$$\n"
   ]
  },
  {
   "cell_type": "markdown",
   "id": "dab79823",
   "metadata": {},
   "source": [
    "Se define primero la parte del denominador"
   ]
  },
  {
   "cell_type": "code",
   "execution_count": 52,
   "id": "8d909ee3",
   "metadata": {},
   "outputs": [],
   "source": [
    "def suma_nueve(x):\n",
    "    return x + 9"
   ]
  },
  {
   "cell_type": "markdown",
   "id": "6c8d77e5",
   "metadata": {},
   "source": [
    "Luego definimos el reciproco pasandole una función ***f***"
   ]
  },
  {
   "cell_type": "code",
   "execution_count": 55,
   "id": "74c5a69b",
   "metadata": {},
   "outputs": [],
   "source": [
    "def reciproco(f):\n",
    "    return 1/f"
   ]
  },
  {
   "cell_type": "markdown",
   "id": "bfe24f68",
   "metadata": {},
   "source": [
    "La composición de las dos funciones será el reciproco de ***f*** donde ***f*** será la función *suma_nueve*"
   ]
  },
  {
   "cell_type": "code",
   "execution_count": 56,
   "id": "8380fc6a",
   "metadata": {},
   "outputs": [],
   "source": [
    "def funcion_compuesta(x):\n",
    "    return reciproco(suma_nueve(x))"
   ]
  },
  {
   "cell_type": "code",
   "execution_count": null,
   "id": "43cd3fa0",
   "metadata": {},
   "outputs": [
    {
     "data": {
      "text/plain": [
       "0.1"
      ]
     },
     "execution_count": 64,
     "metadata": {},
     "output_type": "execute_result"
    }
   ],
   "source": [
    "print(funcion_compuesta(1)) # imprime 0.1"
   ]
  },
  {
   "cell_type": "markdown",
   "id": "9e22b9b1",
   "metadata": {},
   "source": [
    "### $$ f(x) =\\dfrac{1}{\\dfrac{1}{x+9}+9}$$\n"
   ]
  },
  {
   "cell_type": "markdown",
   "id": "1e08fb9b",
   "metadata": {},
   "source": [
    "Llamamos a *funcion_compuesta* y que se llame a si misma evaluada en 1"
   ]
  },
  {
   "cell_type": "code",
   "execution_count": 74,
   "id": "67511171",
   "metadata": {},
   "outputs": [
    {
     "data": {
      "text/plain": [
       "0.10989010989010989"
      ]
     },
     "execution_count": 74,
     "metadata": {},
     "output_type": "execute_result"
    }
   ],
   "source": [
    "funcion_compuesta(funcion_compuesta(1))"
   ]
  },
  {
   "cell_type": "markdown",
   "id": "a4538e2e",
   "metadata": {},
   "source": [
    "# *TAREA*\n",
    "Crear una funcion que devuelva el valor absoluto de un numero"
   ]
  },
  {
   "cell_type": "markdown",
   "id": "647c15fa",
   "metadata": {},
   "source": [
    "* ### Usando la función incorporada *abs()*"
   ]
  },
  {
   "cell_type": "code",
   "execution_count": 75,
   "id": "9503ee4c",
   "metadata": {},
   "outputs": [],
   "source": [
    "def absoluto(x):\n",
    "    return abs(x)"
   ]
  },
  {
   "cell_type": "code",
   "execution_count": 76,
   "id": "dc53ad76",
   "metadata": {},
   "outputs": [
    {
     "data": {
      "text/plain": [
       "3"
      ]
     },
     "execution_count": 76,
     "metadata": {},
     "output_type": "execute_result"
    }
   ],
   "source": [
    "absoluto(-3)"
   ]
  },
  {
   "cell_type": "markdown",
   "id": "cc0dcaa0",
   "metadata": {},
   "source": [
    "* ### Usando *if*"
   ]
  },
  {
   "cell_type": "code",
   "execution_count": 77,
   "id": "2525facb",
   "metadata": {},
   "outputs": [],
   "source": [
    "def absoluto_if(x):\n",
    "    if x < 0:\n",
    "        return -x\n",
    "    else: \n",
    "        return x"
   ]
  },
  {
   "cell_type": "code",
   "execution_count": 78,
   "id": "4925be0d",
   "metadata": {},
   "outputs": [
    {
     "data": {
      "text/plain": [
       "3"
      ]
     },
     "execution_count": 78,
     "metadata": {},
     "output_type": "execute_result"
    }
   ],
   "source": [
    "absoluto_if(-3)"
   ]
  },
  {
   "cell_type": "code",
   "execution_count": 79,
   "id": "adad617f",
   "metadata": {},
   "outputs": [
    {
     "data": {
      "text/plain": [
       "3"
      ]
     },
     "execution_count": 79,
     "metadata": {},
     "output_type": "execute_result"
    }
   ],
   "source": [
    "absoluto_if(3)"
   ]
  },
  {
   "cell_type": "markdown",
   "id": "ffb561af",
   "metadata": {},
   "source": [
    "* ### Usando expresión corta"
   ]
  },
  {
   "cell_type": "code",
   "execution_count": 80,
   "id": "cb7c7704",
   "metadata": {},
   "outputs": [],
   "source": [
    "def absoluto_corto(x):\n",
    "    return -x if x < 0 else x"
   ]
  },
  {
   "cell_type": "code",
   "execution_count": 81,
   "id": "0e1ac4ca",
   "metadata": {},
   "outputs": [
    {
     "data": {
      "text/plain": [
       "3"
      ]
     },
     "execution_count": 81,
     "metadata": {},
     "output_type": "execute_result"
    }
   ],
   "source": [
    "absoluto_corto(-3)"
   ]
  },
  {
   "cell_type": "code",
   "execution_count": null,
   "id": "7f59e1d1",
   "metadata": {},
   "outputs": [],
   "source": []
  }
 ],
 "metadata": {
  "kernelspec": {
   "display_name": "Python 3",
   "language": "python",
   "name": "python3"
  },
  "language_info": {
   "codemirror_mode": {
    "name": "ipython",
    "version": 3
   },
   "file_extension": ".py",
   "mimetype": "text/x-python",
   "name": "python",
   "nbconvert_exporter": "python",
   "pygments_lexer": "ipython3",
   "version": "3.13.1"
  }
 },
 "nbformat": 4,
 "nbformat_minor": 5
}
