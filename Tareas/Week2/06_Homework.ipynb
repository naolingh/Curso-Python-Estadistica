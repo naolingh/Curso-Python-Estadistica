{
 "cells": [
  {
   "cell_type": "markdown",
   "id": "59bd11d9",
   "metadata": {},
   "source": [
    "## Exercise:\n",
    "- Respond to the following question: When is it appropriate to use the Kolmogorov-Smirnov test instead of the Shapiro-Wilk test?\n"
   ]
  },
  {
   "cell_type": "markdown",
   "id": "8291e974",
   "metadata": {},
   "source": [
    "> Shapiro-Wilk\n",
    "\n",
    "Es la más recomendada en general ya que es la mas potente para detectar desviaciones de la normalidad\n",
    "\n",
    "Funciona muy bien para **muestras pequeñas y medianas** con n < 50, incluso hasta 2000\n",
    "\n",
    "Para muestras grandes se vuelve hipersensible y detecta como *'no normal'* hasta la minima desviación\n",
    "\n",
    "> Kolmogorov-Smirnov (K-S)\n",
    "\n",
    "Es una prueba más general ya que compara la distribución empirica de los datos contra una distribución teorica (no solo normal, sino tambien uniforme, exponencial, etc.)\n",
    "\n",
    "Para usarla en normalidad, se aplica la versión K-S con corrección de Lilliefors (porque la normal estimada usa media y varianza calculadas de los datos)\n",
    "\n",
    "Es mas util cuando:\n",
    "\n",
    "    a) se tienen **muestras grandes** y se quiere comparar contra una distribución teórica\n",
    "\n",
    "    b) se quiere probar si los datos siguen **otra distribución distinta a la normal**\n",
    "\n",
    "Aunque tiene menos potencial estadistico que Shapiro-Wilk, o sea, le cuesta más detectar desviaciones de la normalidad."
   ]
  },
  {
   "cell_type": "markdown",
   "id": "fa7b25e7",
   "metadata": {},
   "source": [
    "- Based on the previous answer, perform the appropriate test to assess normality in the DIC (Dissolved Inorganic Carbon) and Salinity datasets."
   ]
  },
  {
   "cell_type": "markdown",
   "id": "5b4f5d0f",
   "metadata": {},
   "source": [
    "> Ya que la diferencia entre las dos pruebas de normalidad es la cantidad de datos se usara la prueba de Shapiro:\n"
   ]
  },
  {
   "cell_type": "code",
   "execution_count": 10,
   "id": "e6b23ab5",
   "metadata": {},
   "outputs": [
    {
     "name": "stdout",
     "output_type": "stream",
     "text": [
      "   sample      date     estuary   area station layer_depth season  \\\n",
      "0  CDL01S  5/3/2020  Candelaria  River   CDL01     Surface    Dry   \n",
      "1  CDL01F  5/3/2020  Candelaria  River   CDL01      Bottom    Dry   \n",
      "2  CDL02S  5/3/2020  Candelaria  River   CDL02     Surface    Dry   \n",
      "3  CDL02F  5/3/2020  Candelaria  River   CDL02      Bottom    Dry   \n",
      "4  CDL03S  5/3/2020  Candelaria  River   CDL03     Surface    Dry   \n",
      "\n",
      "   chlorophy_microg_l  cond_microsiemens_cm  depth_m  ...  do_mg_l  sal_psu  \\\n",
      "0                0.36                7015.4    0.464  ...     7.12     3.56   \n",
      "1                4.19               29886.1    7.792  ...     4.90    16.97   \n",
      "2                0.92               16691.1    0.453  ...     6.99     8.94   \n",
      "3                2.23               24847.4    1.261  ...     6.52    13.87   \n",
      "4                0.58               46341.6    0.465  ...     6.24    28.06   \n",
      "\n",
      "   sp_cond_microsiemens_cm  turbidity_fnu  temp_c  latitude  longitude  \\\n",
      "0                   6547.7           1.47  28.740  18.55736  -91.25012   \n",
      "1                  27751.2          95.33  29.028  18.55722  -91.24990   \n",
      "2                  15429.1           5.50  29.283  18.61007  -91.24410   \n",
      "3                  23074.0          13.44  29.024  18.61005  -91.24403   \n",
      "4                  43670.8           3.60  28.202  18.63166  -91.29359   \n",
      "\n",
      "   dic_micromol_kg  ta_micromol_kg  dummy_data  \n",
      "0             3915            3863      3685.0  \n",
      "1             3698            3685         NaN  \n",
      "2             3724            3708      3708.0  \n",
      "3             3667            3992      3992.0  \n",
      "4             2928            3023      3023.0  \n",
      "\n",
      "[5 rows x 21 columns]\n"
     ]
    }
   ],
   "source": [
    "# importamos librerias\n",
    "\n",
    "import pandas as pd \n",
    "import matplotlib as plt \n",
    "\n",
    "# creamos la función para crear el DataFrame\n",
    "def import_csv(file):\n",
    "    # leé el archivo en un DataFrame  \n",
    "    return pd.read_csv(file)\n",
    "\n",
    "# creamos la función de la ubicación del csv\n",
    "path = \"../../Datos/Terminos_lagoon_TA_DIC_2023_RawData.csv\"\n",
    "\n",
    "# importamos el archivo\n",
    "CO2Data = import_csv(path)\n",
    "\n",
    "# exploramos el DataFrame\n",
    "print(CO2Data.head())\n"
   ]
  },
  {
   "cell_type": "code",
   "execution_count": 11,
   "id": "84bbfe88",
   "metadata": {},
   "outputs": [
    {
     "name": "stdout",
     "output_type": "stream",
     "text": [
      "dic_micromol_kg -> stat=0.860, p=0.000\n",
      "La distribución NO es normal (Se rechaza H0)\n"
     ]
    }
   ],
   "source": [
    "# importamos shapiro desde la libreria de Scipy\n",
    "from scipy.stats import shapiro\n",
    "\n",
    "# prueba de normalidad shapiro para DIC\n",
    "stat, p = shapiro(CO2Data['dic_micromol_kg'])\n",
    "#print(f'Estadistico={stat:.5f}, p-valor= {p:.10f}')\n",
    "\n",
    "# imprimimos en consola sobre la prueba de esta variable\n",
    "print(\"dic_micromol_kg -> stat=%.3f, p=%.3f\" % (stat, p))\n",
    "\n",
    "\n",
    "if p > 0.05:\n",
    "    print(\"La distribución es normal (no se rechaza H0)\")\n",
    "else:\n",
    "    print(\"La distribución NO es normal (Se rechaza H0)\")"
   ]
  },
  {
   "cell_type": "code",
   "execution_count": 12,
   "id": "708ba826",
   "metadata": {},
   "outputs": [
    {
     "name": "stdout",
     "output_type": "stream",
     "text": [
      "sal_psu -> stat=0.88666, p=0.0000001839\n",
      "La distribución NO es normal (Se rechaza H0)\n"
     ]
    }
   ],
   "source": [
    "# prueba de normalidad shapiro para salinidad\n",
    "stat, p = shapiro(CO2Data['sal_psu'])\n",
    "#print(f'Estadistico={stat:.5f}, p-valor= {p:.10f}')\n",
    "\n",
    "# imprimimos en consola sobre la prueba de esta variable\n",
    "print(\"sal_psu -> stat=%.5f, p=%.10f\" % (stat, p))\n",
    "\n",
    "if p > 0.05:\n",
    "    print(\"La distribución es normal (no se rechaza H0)\")\n",
    "else:\n",
    "    print(\"La distribución NO es normal (Se rechaza H0)\")"
   ]
  }
 ],
 "metadata": {
  "kernelspec": {
   "display_name": "Python 3",
   "language": "python",
   "name": "python3"
  },
  "language_info": {
   "codemirror_mode": {
    "name": "ipython",
    "version": 3
   },
   "file_extension": ".py",
   "mimetype": "text/x-python",
   "name": "python",
   "nbconvert_exporter": "python",
   "pygments_lexer": "ipython3",
   "version": "3.13.1"
  }
 },
 "nbformat": 4,
 "nbformat_minor": 5
}
