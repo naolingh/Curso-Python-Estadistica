{
 "cells": [
  {
   "cell_type": "markdown",
   "id": "4d73a665",
   "metadata": {},
   "source": [
    "# **Datos faltantes**"
   ]
  },
  {
   "cell_type": "markdown",
   "id": "4cee2e23",
   "metadata": {},
   "source": [
    "## Importamos la base de datos"
   ]
  },
  {
   "cell_type": "code",
   "execution_count": 26,
   "id": "b134b2da",
   "metadata": {},
   "outputs": [],
   "source": [
    "def import_csv(file):\n",
    "    # Read the file into a DataFrame: df\n",
    "    import pandas as pd\n",
    "    return pd.read_csv(file)"
   ]
  },
  {
   "cell_type": "code",
   "execution_count": 27,
   "id": "bf6f8688",
   "metadata": {},
   "outputs": [],
   "source": [
    "# Path to the file to be imported\n",
    "path = \"../Datos/Terminos_lagoon_TA_DIC_2023_RawData.csv\"\n",
    "\n",
    "# Import the file\n",
    "CO2Data = import_csv(path)"
   ]
  },
  {
   "cell_type": "markdown",
   "id": "4d0b0710",
   "metadata": {},
   "source": [
    "## Exploramos la base de datos"
   ]
  },
  {
   "cell_type": "code",
   "execution_count": 28,
   "id": "3e50220f",
   "metadata": {},
   "outputs": [
    {
     "name": "stdout",
     "output_type": "stream",
     "text": [
      "(106, 21)\n"
     ]
    }
   ],
   "source": [
    "# Imprime el número de caldas y columnas del DataFrame\n",
    "print(CO2Data.shape)"
   ]
  },
  {
   "cell_type": "code",
   "execution_count": 29,
   "id": "5ecd1098",
   "metadata": {},
   "outputs": [
    {
     "name": "stdout",
     "output_type": "stream",
     "text": [
      "   sample      date     estuary   area station layer_depth season  \\\n",
      "0  CDL01S  5/3/2020  Candelaria  River   CDL01     Surface    Dry   \n",
      "1  CDL01F  5/3/2020  Candelaria  River   CDL01      Bottom    Dry   \n",
      "2  CDL02S  5/3/2020  Candelaria  River   CDL02     Surface    Dry   \n",
      "3  CDL02F  5/3/2020  Candelaria  River   CDL02      Bottom    Dry   \n",
      "4  CDL03S  5/3/2020  Candelaria  River   CDL03     Surface    Dry   \n",
      "\n",
      "   chlorophy_microg_l  cond_microsiemens_cm  depth_m  ...  do_mg_l  sal_psu  \\\n",
      "0                0.36                7015.4    0.464  ...     7.12     3.56   \n",
      "1                4.19               29886.1    7.792  ...     4.90    16.97   \n",
      "2                0.92               16691.1    0.453  ...     6.99     8.94   \n",
      "3                2.23               24847.4    1.261  ...     6.52    13.87   \n",
      "4                0.58               46341.6    0.465  ...     6.24    28.06   \n",
      "\n",
      "   sp_cond_microsiemens_cm  turbidity_fnu  temp_c  latitude  longitude  \\\n",
      "0                   6547.7           1.47  28.740  18.55736  -91.25012   \n",
      "1                  27751.2          95.33  29.028  18.55722  -91.24990   \n",
      "2                  15429.1           5.50  29.283  18.61007  -91.24410   \n",
      "3                  23074.0          13.44  29.024  18.61005  -91.24403   \n",
      "4                  43670.8           3.60  28.202  18.63166  -91.29359   \n",
      "\n",
      "   dic_micromol_kg  ta_micromol_kg  dummy_data  \n",
      "0             3915            3863      3685.0  \n",
      "1             3698            3685         NaN  \n",
      "2             3724            3708      3708.0  \n",
      "3             3667            3992      3992.0  \n",
      "4             2928            3023      3023.0  \n",
      "\n",
      "[5 rows x 21 columns]\n"
     ]
    }
   ],
   "source": [
    "# Imprime los encabezados del DataFrame\n",
    "print(CO2Data.head())"
   ]
  },
  {
   "cell_type": "markdown",
   "id": "d45f9cdb",
   "metadata": {},
   "source": [
    "- Imprime información sobre el DataFrame incluido el índice dtype y las columnas, los valores no nulos y el uso de la memoria"
   ]
  },
  {
   "cell_type": "code",
   "execution_count": 30,
   "id": "60a18ea9",
   "metadata": {},
   "outputs": [
    {
     "name": "stdout",
     "output_type": "stream",
     "text": [
      "<class 'pandas.core.frame.DataFrame'>\n",
      "RangeIndex: 106 entries, 0 to 105\n",
      "Data columns (total 21 columns):\n",
      " #   Column                   Non-Null Count  Dtype  \n",
      "---  ------                   --------------  -----  \n",
      " 0   sample                   106 non-null    object \n",
      " 1   date                     106 non-null    object \n",
      " 2   estuary                  106 non-null    object \n",
      " 3   area                     106 non-null    object \n",
      " 4   station                  106 non-null    object \n",
      " 5   layer_depth              106 non-null    object \n",
      " 6   season                   106 non-null    object \n",
      " 7   chlorophy_microg_l       106 non-null    float64\n",
      " 8   cond_microsiemens_cm     106 non-null    float64\n",
      " 9   depth_m                  106 non-null    float64\n",
      " 10  do_percent_sat           106 non-null    float64\n",
      " 11  do_mg_l                  106 non-null    float64\n",
      " 12  sal_psu                  106 non-null    float64\n",
      " 13  sp_cond_microsiemens_cm  106 non-null    float64\n",
      " 14  turbidity_fnu            106 non-null    float64\n",
      " 15  temp_c                   106 non-null    float64\n",
      " 16  latitude                 106 non-null    float64\n",
      " 17  longitude                106 non-null    float64\n",
      " 18  dic_micromol_kg          106 non-null    int64  \n",
      " 19  ta_micromol_kg           106 non-null    int64  \n",
      " 20  dummy_data               99 non-null     float64\n",
      "dtypes: float64(12), int64(2), object(7)\n",
      "memory usage: 17.5+ KB\n",
      "None\n"
     ]
    }
   ],
   "source": [
    "# Imprime información sobre el DataFrame\n",
    "print(CO2Data.info())"
   ]
  },
  {
   "cell_type": "markdown",
   "id": "5c695f2e",
   "metadata": {},
   "source": [
    "- Imprime la estadistica descriptiva del DataFrame"
   ]
  },
  {
   "cell_type": "code",
   "execution_count": 31,
   "id": "cfd587db",
   "metadata": {},
   "outputs": [
    {
     "name": "stdout",
     "output_type": "stream",
     "text": [
      "       chlorophy_microg_l  cond_microsiemens_cm     depth_m  do_percent_sat  \\\n",
      "count          106.000000            106.000000  106.000000      106.000000   \n",
      "mean             6.545472          27895.183962    1.830160       89.515094   \n",
      "std             14.941262          20931.232513    2.038739       29.772291   \n",
      "min              0.360000             13.800000    0.105000        1.700000   \n",
      "25%              2.555000           1778.025000    0.428750       84.575000   \n",
      "50%              3.705000          33202.600000    0.638500       97.100000   \n",
      "75%              5.925000          47046.650000    2.883250      105.300000   \n",
      "max            150.900000          59988.600000    8.558000      174.100000   \n",
      "\n",
      "          do_mg_l     sal_psu  sp_cond_microsiemens_cm  turbidity_fnu  \\\n",
      "count  106.000000  106.000000               106.000000     106.000000   \n",
      "mean     6.474340   17.331981             27126.980189     100.429623   \n",
      "std      2.104254   13.578980             20527.530804     290.290113   \n",
      "min      0.120000    0.000000                13.700000       0.880000   \n",
      "25%      5.632500    0.857500              1706.875000       5.950000   \n",
      "50%      6.940000   19.760000             31803.250000      19.090000   \n",
      "75%      7.722500   30.297500             46668.975000      54.762500   \n",
      "max     11.660000   38.780000             58105.000000    2422.930000   \n",
      "\n",
      "           temp_c    latitude   longitude  dic_micromol_kg  ta_micromol_kg  \\\n",
      "count  106.000000  106.000000  106.000000       106.000000      106.000000   \n",
      "mean    26.758755   18.615912  -91.602783      2797.981132     2912.915094   \n",
      "std      0.917242    0.112832    0.240359       499.852416      472.694346   \n",
      "min     24.470000   18.424030  -91.902180      2152.000000     2357.000000   \n",
      "25%     26.062000   18.535825  -91.809810      2452.250000     2585.500000   \n",
      "50%     26.806000   18.610050  -91.786895      2646.500000     2823.000000   \n",
      "75%     27.153250   18.698798  -91.367565      2963.250000     3053.750000   \n",
      "max     29.283000   18.821780  -91.244000      4324.000000     4307.000000   \n",
      "\n",
      "        dummy_data  \n",
      "count    99.000000  \n",
      "mean   2902.888889  \n",
      "std     473.698989  \n",
      "min    2357.000000  \n",
      "25%    2561.500000  \n",
      "50%    2814.000000  \n",
      "75%    3029.000000  \n",
      "max    4307.000000  \n"
     ]
    }
   ],
   "source": [
    "# Print descriptive statistics\n",
    "print(CO2Data.describe())"
   ]
  },
  {
   "cell_type": "markdown",
   "id": "6110e0f5",
   "metadata": {},
   "source": [
    "## Valores faltantes en cada columna"
   ]
  },
  {
   "cell_type": "code",
   "execution_count": 32,
   "id": "a67a25ee",
   "metadata": {},
   "outputs": [
    {
     "name": "stdout",
     "output_type": "stream",
     "text": [
      "sample                     0\n",
      "date                       0\n",
      "estuary                    0\n",
      "area                       0\n",
      "station                    0\n",
      "layer_depth                0\n",
      "season                     0\n",
      "chlorophy_microg_l         0\n",
      "cond_microsiemens_cm       0\n",
      "depth_m                    0\n",
      "do_percent_sat             0\n",
      "do_mg_l                    0\n",
      "sal_psu                    0\n",
      "sp_cond_microsiemens_cm    0\n",
      "turbidity_fnu              0\n",
      "temp_c                     0\n",
      "latitude                   0\n",
      "longitude                  0\n",
      "dic_micromol_kg            0\n",
      "ta_micromol_kg             0\n",
      "dummy_data                 7\n",
      "dtype: int64\n"
     ]
    }
   ],
   "source": [
    "# Usando la función insull() de Pandas para identificar el número de valores faltantes en cada columna\n",
    "print(CO2Data.isnull().sum())"
   ]
  },
  {
   "cell_type": "markdown",
   "id": "1395b315",
   "metadata": {},
   "source": [
    "### Método para rellenar huecos en las series reindexadas\n",
    "\n",
    "- ffill: propaga la última observación válida a la sigueinte\n",
    "\n",
    "- bfill: utiliza la siguiente observación válida para rellenar huecos"
   ]
  },
  {
   "cell_type": "code",
   "execution_count": 33,
   "id": "042579ec",
   "metadata": {},
   "outputs": [
    {
     "name": "stdout",
     "output_type": "stream",
     "text": [
      "sample                     0\n",
      "date                       0\n",
      "estuary                    0\n",
      "area                       0\n",
      "station                    0\n",
      "layer_depth                0\n",
      "season                     0\n",
      "chlorophy_microg_l         0\n",
      "cond_microsiemens_cm       0\n",
      "depth_m                    0\n",
      "do_percent_sat             0\n",
      "do_mg_l                    0\n",
      "sal_psu                    0\n",
      "sp_cond_microsiemens_cm    0\n",
      "turbidity_fnu              0\n",
      "temp_c                     0\n",
      "latitude                   0\n",
      "longitude                  0\n",
      "dic_micromol_kg            0\n",
      "ta_micromol_kg             0\n",
      "dummy_data                 0\n",
      "dtype: int64\n"
     ]
    },
    {
     "name": "stderr",
     "output_type": "stream",
     "text": [
      "C:\\Users\\Huawei\\AppData\\Local\\Temp\\ipykernel_10500\\3238100582.py:5: FutureWarning: DataFrame.fillna with 'method' is deprecated and will raise in a future version. Use obj.ffill() or obj.bfill() instead.\n",
      "  CO2Data_fill = CO2Data_fill.fillna(method=\"ffill\")\n"
     ]
    }
   ],
   "source": [
    "# Creamos una nueva base de datos (copia)\n",
    "CO2Data_fill = CO2Data.copy()\n",
    "\n",
    "# Usamos el método ffill\n",
    "CO2Data_fill = CO2Data_fill.fillna(method=\"ffill\")\n",
    "\n",
    "print(CO2Data_fill.isnull().sum())"
   ]
  },
  {
   "cell_type": "markdown",
   "id": "87ad7894",
   "metadata": {},
   "source": [
    "Se creo una copia de la base de datos para rellenar los huecos con el método ffill llamada CO2Data_fill "
   ]
  },
  {
   "cell_type": "markdown",
   "id": "a024ad7b",
   "metadata": {},
   "source": [
    "### Interpolación para rellenar datos faltantes"
   ]
  },
  {
   "cell_type": "markdown",
   "id": "d6b9c9fb",
   "metadata": {},
   "source": [
    "- Copiamos el DataFrame original para no tocarlo\n",
    "- Que rellene los datos faltantes por interpolación lineal\n",
    "- Imprime cuantos valores faltantes quedarón"
   ]
  },
  {
   "cell_type": "code",
   "execution_count": 34,
   "id": "b36307ef",
   "metadata": {},
   "outputs": [
    {
     "name": "stdout",
     "output_type": "stream",
     "text": [
      "sample                     0\n",
      "date                       0\n",
      "estuary                    0\n",
      "area                       0\n",
      "station                    0\n",
      "layer_depth                0\n",
      "season                     0\n",
      "chlorophy_microg_l         0\n",
      "cond_microsiemens_cm       0\n",
      "depth_m                    0\n",
      "do_percent_sat             0\n",
      "do_mg_l                    0\n",
      "sal_psu                    0\n",
      "sp_cond_microsiemens_cm    0\n",
      "turbidity_fnu              0\n",
      "temp_c                     0\n",
      "latitude                   0\n",
      "longitude                  0\n",
      "dic_micromol_kg            0\n",
      "ta_micromol_kg             0\n",
      "dummy_data                 0\n",
      "dtype: int64\n"
     ]
    },
    {
     "name": "stderr",
     "output_type": "stream",
     "text": [
      "C:\\Users\\Huawei\\AppData\\Local\\Temp\\ipykernel_10500\\210692627.py:3: FutureWarning: DataFrame.interpolate with object dtype is deprecated and will raise in a future version. Call obj.infer_objects(copy=False) before interpolating instead.\n",
      "  CO2Data_fill_linear = CO2Data_fill_linear.interpolate(method='linear')\n"
     ]
    }
   ],
   "source": [
    "CO2Data_fill_linear = CO2Data.copy()\n",
    "\n",
    "CO2Data_fill_linear = CO2Data_fill_linear.interpolate(method='linear')\n",
    "\n",
    "print(CO2Data_fill_linear.isnull().sum())"
   ]
  },
  {
   "cell_type": "markdown",
   "id": "253501d8",
   "metadata": {},
   "source": [
    "#### ¿Cómo funciona la interpolación lineal?\n",
    "\n",
    "- Mira los valores que faltan en las columnas\n",
    "- Para cada valor faltante calcula su valor como una linea recta entre el valor anterior y el siguiente disponible\n",
    "- Este método es **ideal** cuando los **datos** son **continuos** y se quiere ***mantener la tendencia*** \n",
    "- Pandas tiene otro métodos de interpolación como el *polynomial*, *spline*, *time*, etc según como se quieran estimar los valores faltnates"
   ]
  },
  {
   "cell_type": "markdown",
   "id": "7aa856bb",
   "metadata": {},
   "source": [
    "### Ejercicios:  \n",
    "    - Crear una nueva columna llamada \"TA_DIC_ratio\" que represente la razón entre TA y DIC\n",
    "    - Calcular la media y la desviación estándar de \"TA_DIC_ratio\" para cada estación\n",
    "    - Calcular la media y la desviación estandar de \"TA_DIC_ratio\" para cada estación y área\n",
    "    - Guarda los resultdos en un archivo de excel llamado \"TA_DIC_Season_Areas.xlsx\""
   ]
  },
  {
   "cell_type": "markdown",
   "id": "f8353825",
   "metadata": {},
   "source": [
    "## **\"ta_dic_ratio\"**"
   ]
  },
  {
   "cell_type": "markdown",
   "id": "e9c40040",
   "metadata": {},
   "source": [
    "### Obtenemos las dos variables del DataFrame"
   ]
  },
  {
   "cell_type": "markdown",
   "id": "4ebcd1a5",
   "metadata": {},
   "source": [
    "> Realmente esto no es necesario"
   ]
  },
  {
   "cell_type": "code",
   "execution_count": 35,
   "id": "640b4f5a",
   "metadata": {},
   "outputs": [],
   "source": [
    "ta_dic_data = CO2Data[['ta_micromol_kg', 'dic_micromol_kg']]"
   ]
  },
  {
   "cell_type": "code",
   "execution_count": 36,
   "id": "5b3919ad",
   "metadata": {},
   "outputs": [
    {
     "data": {
      "application/vnd.microsoft.datawrangler.viewer.v0+json": {
       "columns": [
        {
         "name": "index",
         "rawType": "int64",
         "type": "integer"
        },
        {
         "name": "ta_micromol_kg",
         "rawType": "int64",
         "type": "integer"
        },
        {
         "name": "dic_micromol_kg",
         "rawType": "int64",
         "type": "integer"
        }
       ],
       "ref": "373be5d3-4d57-41af-9e44-52d0efb51b01",
       "rows": [
        [
         "0",
         "3863",
         "3915"
        ],
        [
         "1",
         "3685",
         "3698"
        ],
        [
         "2",
         "3708",
         "3724"
        ],
        [
         "3",
         "3992",
         "3667"
        ],
        [
         "4",
         "3023",
         "2928"
        ],
        [
         "5",
         "2849",
         "2752"
        ],
        [
         "6",
         "2828",
         "2672"
        ],
        [
         "7",
         "2818",
         "2613"
        ],
        [
         "8",
         "2828",
         "2652"
        ],
        [
         "9",
         "2840",
         "2668"
        ],
        [
         "10",
         "2933",
         "2737"
        ],
        [
         "11",
         "2833",
         "2636"
        ],
        [
         "12",
         "2977",
         "2792"
        ],
        [
         "13",
         "2992",
         "2753"
        ],
        [
         "14",
         "2650",
         "2429"
        ],
        [
         "15",
         "2659",
         "2459"
        ],
        [
         "16",
         "2649",
         "2467"
        ],
        [
         "17",
         "2500",
         "2305"
        ],
        [
         "18",
         "3195",
         "3315"
        ],
        [
         "19",
         "3216",
         "3338"
        ],
        [
         "20",
         "3221",
         "3407"
        ],
        [
         "21",
         "3223",
         "3222"
        ],
        [
         "22",
         "3105",
         "3180"
        ],
        [
         "23",
         "3090",
         "3162"
        ],
        [
         "24",
         "3002",
         "3048"
        ],
        [
         "25",
         "3060",
         "3007"
        ],
        [
         "26",
         "2878",
         "2694"
        ],
        [
         "27",
         "2814",
         "2817"
        ],
        [
         "28",
         "2755",
         "2670"
        ],
        [
         "29",
         "2958",
         "2794"
        ],
        [
         "30",
         "2737",
         "2627"
        ],
        [
         "31",
         "3726",
         "2698"
        ],
        [
         "32",
         "2715",
         "2628"
        ],
        [
         "33",
         "3616",
         "2616"
        ],
        [
         "34",
         "2635",
         "2501"
        ],
        [
         "35",
         "3646",
         "2500"
        ],
        [
         "36",
         "2847",
         "2958"
        ],
        [
         "37",
         "2841",
         "2965"
        ],
        [
         "38",
         "2860",
         "2965"
        ],
        [
         "39",
         "2865",
         "2973"
        ],
        [
         "40",
         "2501",
         "2528"
        ],
        [
         "41",
         "2438",
         "2357"
        ],
        [
         "42",
         "2359",
         "2233"
        ],
        [
         "43",
         "2428",
         "2348"
        ],
        [
         "44",
         "2542",
         "2425"
        ],
        [
         "45",
         "2409",
         "2302"
        ],
        [
         "46",
         "2415",
         "2361"
        ],
        [
         "47",
         "2417",
         "2336"
        ],
        [
         "48",
         "2429",
         "2239"
        ],
        [
         "49",
         "2412",
         "2258"
        ]
       ],
       "shape": {
        "columns": 2,
        "rows": 106
       }
      },
      "text/html": [
       "<div>\n",
       "<style scoped>\n",
       "    .dataframe tbody tr th:only-of-type {\n",
       "        vertical-align: middle;\n",
       "    }\n",
       "\n",
       "    .dataframe tbody tr th {\n",
       "        vertical-align: top;\n",
       "    }\n",
       "\n",
       "    .dataframe thead th {\n",
       "        text-align: right;\n",
       "    }\n",
       "</style>\n",
       "<table border=\"1\" class=\"dataframe\">\n",
       "  <thead>\n",
       "    <tr style=\"text-align: right;\">\n",
       "      <th></th>\n",
       "      <th>ta_micromol_kg</th>\n",
       "      <th>dic_micromol_kg</th>\n",
       "    </tr>\n",
       "  </thead>\n",
       "  <tbody>\n",
       "    <tr>\n",
       "      <th>0</th>\n",
       "      <td>3863</td>\n",
       "      <td>3915</td>\n",
       "    </tr>\n",
       "    <tr>\n",
       "      <th>1</th>\n",
       "      <td>3685</td>\n",
       "      <td>3698</td>\n",
       "    </tr>\n",
       "    <tr>\n",
       "      <th>2</th>\n",
       "      <td>3708</td>\n",
       "      <td>3724</td>\n",
       "    </tr>\n",
       "    <tr>\n",
       "      <th>3</th>\n",
       "      <td>3992</td>\n",
       "      <td>3667</td>\n",
       "    </tr>\n",
       "    <tr>\n",
       "      <th>4</th>\n",
       "      <td>3023</td>\n",
       "      <td>2928</td>\n",
       "    </tr>\n",
       "    <tr>\n",
       "      <th>...</th>\n",
       "      <td>...</td>\n",
       "      <td>...</td>\n",
       "    </tr>\n",
       "    <tr>\n",
       "      <th>101</th>\n",
       "      <td>2851</td>\n",
       "      <td>2715</td>\n",
       "    </tr>\n",
       "    <tr>\n",
       "      <th>102</th>\n",
       "      <td>2837</td>\n",
       "      <td>2638</td>\n",
       "    </tr>\n",
       "    <tr>\n",
       "      <th>103</th>\n",
       "      <td>2857</td>\n",
       "      <td>2608</td>\n",
       "    </tr>\n",
       "    <tr>\n",
       "      <th>104</th>\n",
       "      <td>2804</td>\n",
       "      <td>2605</td>\n",
       "    </tr>\n",
       "    <tr>\n",
       "      <th>105</th>\n",
       "      <td>2780</td>\n",
       "      <td>2542</td>\n",
       "    </tr>\n",
       "  </tbody>\n",
       "</table>\n",
       "<p>106 rows × 2 columns</p>\n",
       "</div>"
      ],
      "text/plain": [
       "     ta_micromol_kg  dic_micromol_kg\n",
       "0              3863             3915\n",
       "1              3685             3698\n",
       "2              3708             3724\n",
       "3              3992             3667\n",
       "4              3023             2928\n",
       "..              ...              ...\n",
       "101            2851             2715\n",
       "102            2837             2638\n",
       "103            2857             2608\n",
       "104            2804             2605\n",
       "105            2780             2542\n",
       "\n",
       "[106 rows x 2 columns]"
      ]
     },
     "execution_count": 36,
     "metadata": {},
     "output_type": "execute_result"
    }
   ],
   "source": [
    "ta_dic_data"
   ]
  },
  {
   "cell_type": "markdown",
   "id": "b20cda60",
   "metadata": {},
   "source": [
    "### Creamos la nueva columna con operaciones entre columnas"
   ]
  },
  {
   "cell_type": "markdown",
   "id": "fe32fa07",
   "metadata": {},
   "source": [
    "Se crea una columna fija en el DataFrame con la sintaxis: *NombreDelDataFrame[\"Nombre_De_La_Nueva_Columna]\"*"
   ]
  },
  {
   "cell_type": "code",
   "execution_count": 37,
   "id": "4c981bbf",
   "metadata": {},
   "outputs": [],
   "source": [
    "CO2Data[\"ta_dic_ratio\"] = CO2Data[\"ta_micromol_kg\"] / CO2Data[\"dic_micromol_kg\"]"
   ]
  },
  {
   "cell_type": "code",
   "execution_count": 38,
   "id": "aab626e0",
   "metadata": {},
   "outputs": [
    {
     "data": {
      "application/vnd.microsoft.datawrangler.viewer.v0+json": {
       "columns": [
        {
         "name": "index",
         "rawType": "int64",
         "type": "integer"
        },
        {
         "name": "ta_dic_ratio",
         "rawType": "float64",
         "type": "float"
        }
       ],
       "ref": "2c0bac23-8fdf-4922-bfe8-513992a63c6e",
       "rows": [
        [
         "0",
         "0.9867177522349936"
        ],
        [
         "1",
         "0.9964845862628448"
        ],
        [
         "2",
         "0.9957035445757251"
        ],
        [
         "3",
         "1.0886283065175892"
        ],
        [
         "4",
         "1.032445355191257"
        ],
        [
         "5",
         "1.0352470930232558"
        ],
        [
         "6",
         "1.0583832335329342"
        ],
        [
         "7",
         "1.0784538844240337"
        ],
        [
         "8",
         "1.0663650075414781"
        ],
        [
         "9",
         "1.0644677661169415"
        ],
        [
         "10",
         "1.0716112531969308"
        ],
        [
         "11",
         "1.0747344461305008"
        ],
        [
         "12",
         "1.0662607449856734"
        ],
        [
         "13",
         "1.0868143843080276"
        ],
        [
         "14",
         "1.0909839440098805"
        ],
        [
         "15",
         "1.0813338755591704"
        ],
        [
         "16",
         "1.0737738143494122"
        ],
        [
         "17",
         "1.0845986984815619"
        ],
        [
         "18",
         "0.9638009049773756"
        ],
        [
         "19",
         "0.96345116836429"
        ],
        [
         "20",
         "0.9454065159964778"
        ],
        [
         "21",
         "1.000310366232154"
        ],
        [
         "22",
         "0.9764150943396226"
        ],
        [
         "23",
         "0.9772296015180265"
        ],
        [
         "24",
         "0.9849081364829396"
        ],
        [
         "25",
         "1.01762554040572"
        ],
        [
         "26",
         "1.0682999257609502"
        ],
        [
         "27",
         "0.9989350372736954"
        ],
        [
         "28",
         "1.0318352059925093"
        ],
        [
         "29",
         "1.0586972083035076"
        ],
        [
         "30",
         "1.0418728587742672"
        ],
        [
         "31",
         "1.381022979985174"
        ],
        [
         "32",
         "1.0331050228310503"
        ],
        [
         "33",
         "1.382262996941896"
        ],
        [
         "34",
         "1.053578568572571"
        ],
        [
         "35",
         "1.4584"
        ],
        [
         "36",
         "0.962474645030426"
        ],
        [
         "37",
         "0.9581787521079258"
        ],
        [
         "38",
         "0.9645868465430016"
        ],
        [
         "39",
         "0.963673057517659"
        ],
        [
         "40",
         "0.9893196202531646"
        ],
        [
         "41",
         "1.034365719134493"
        ],
        [
         "42",
         "1.0564263322884013"
        ],
        [
         "43",
         "1.0340715502555367"
        ],
        [
         "44",
         "1.0482474226804124"
        ],
        [
         "45",
         "1.0464813205907906"
        ],
        [
         "46",
         "1.02287166454892"
        ],
        [
         "47",
         "1.0346746575342465"
        ],
        [
         "48",
         "1.0848593121929433"
        ],
        [
         "49",
         "1.0682019486271037"
        ]
       ],
       "shape": {
        "columns": 1,
        "rows": 106
       }
      },
      "text/plain": [
       "0      0.986718\n",
       "1      0.996485\n",
       "2      0.995704\n",
       "3      1.088628\n",
       "4      1.032445\n",
       "         ...   \n",
       "101    1.050092\n",
       "102    1.075436\n",
       "103    1.095475\n",
       "104    1.076392\n",
       "105    1.093627\n",
       "Name: ta_dic_ratio, Length: 106, dtype: float64"
      ]
     },
     "execution_count": 38,
     "metadata": {},
     "output_type": "execute_result"
    }
   ],
   "source": [
    "CO2Data[\"ta_dic_ratio\"]"
   ]
  },
  {
   "cell_type": "markdown",
   "id": "93f80bad",
   "metadata": {},
   "source": [
    "### Colocamos las 3 columnas en una sola tabla"
   ]
  },
  {
   "cell_type": "code",
   "execution_count": 39,
   "id": "e2ef867f",
   "metadata": {},
   "outputs": [],
   "source": [
    "ta_dic_tadicratio = CO2Data[[\"ta_micromol_kg\", \"dic_micromol_kg\", \"ta_dic_ratio\"]]"
   ]
  },
  {
   "cell_type": "code",
   "execution_count": 40,
   "id": "79a33eb9",
   "metadata": {},
   "outputs": [
    {
     "data": {
      "application/vnd.microsoft.datawrangler.viewer.v0+json": {
       "columns": [
        {
         "name": "index",
         "rawType": "int64",
         "type": "integer"
        },
        {
         "name": "ta_micromol_kg",
         "rawType": "int64",
         "type": "integer"
        },
        {
         "name": "dic_micromol_kg",
         "rawType": "int64",
         "type": "integer"
        },
        {
         "name": "ta_dic_ratio",
         "rawType": "float64",
         "type": "float"
        }
       ],
       "ref": "45190427-2182-432c-adea-b9eeed2f12b7",
       "rows": [
        [
         "0",
         "3863",
         "3915",
         "0.9867177522349936"
        ],
        [
         "1",
         "3685",
         "3698",
         "0.9964845862628448"
        ],
        [
         "2",
         "3708",
         "3724",
         "0.9957035445757251"
        ],
        [
         "3",
         "3992",
         "3667",
         "1.0886283065175892"
        ],
        [
         "4",
         "3023",
         "2928",
         "1.032445355191257"
        ],
        [
         "5",
         "2849",
         "2752",
         "1.0352470930232558"
        ],
        [
         "6",
         "2828",
         "2672",
         "1.0583832335329342"
        ],
        [
         "7",
         "2818",
         "2613",
         "1.0784538844240337"
        ],
        [
         "8",
         "2828",
         "2652",
         "1.0663650075414781"
        ],
        [
         "9",
         "2840",
         "2668",
         "1.0644677661169415"
        ],
        [
         "10",
         "2933",
         "2737",
         "1.0716112531969308"
        ],
        [
         "11",
         "2833",
         "2636",
         "1.0747344461305008"
        ],
        [
         "12",
         "2977",
         "2792",
         "1.0662607449856734"
        ],
        [
         "13",
         "2992",
         "2753",
         "1.0868143843080276"
        ],
        [
         "14",
         "2650",
         "2429",
         "1.0909839440098805"
        ],
        [
         "15",
         "2659",
         "2459",
         "1.0813338755591704"
        ],
        [
         "16",
         "2649",
         "2467",
         "1.0737738143494122"
        ],
        [
         "17",
         "2500",
         "2305",
         "1.0845986984815619"
        ],
        [
         "18",
         "3195",
         "3315",
         "0.9638009049773756"
        ],
        [
         "19",
         "3216",
         "3338",
         "0.96345116836429"
        ],
        [
         "20",
         "3221",
         "3407",
         "0.9454065159964778"
        ],
        [
         "21",
         "3223",
         "3222",
         "1.000310366232154"
        ],
        [
         "22",
         "3105",
         "3180",
         "0.9764150943396226"
        ],
        [
         "23",
         "3090",
         "3162",
         "0.9772296015180265"
        ],
        [
         "24",
         "3002",
         "3048",
         "0.9849081364829396"
        ],
        [
         "25",
         "3060",
         "3007",
         "1.01762554040572"
        ],
        [
         "26",
         "2878",
         "2694",
         "1.0682999257609502"
        ],
        [
         "27",
         "2814",
         "2817",
         "0.9989350372736954"
        ],
        [
         "28",
         "2755",
         "2670",
         "1.0318352059925093"
        ],
        [
         "29",
         "2958",
         "2794",
         "1.0586972083035076"
        ],
        [
         "30",
         "2737",
         "2627",
         "1.0418728587742672"
        ],
        [
         "31",
         "3726",
         "2698",
         "1.381022979985174"
        ],
        [
         "32",
         "2715",
         "2628",
         "1.0331050228310503"
        ],
        [
         "33",
         "3616",
         "2616",
         "1.382262996941896"
        ],
        [
         "34",
         "2635",
         "2501",
         "1.053578568572571"
        ],
        [
         "35",
         "3646",
         "2500",
         "1.4584"
        ],
        [
         "36",
         "2847",
         "2958",
         "0.962474645030426"
        ],
        [
         "37",
         "2841",
         "2965",
         "0.9581787521079258"
        ],
        [
         "38",
         "2860",
         "2965",
         "0.9645868465430016"
        ],
        [
         "39",
         "2865",
         "2973",
         "0.963673057517659"
        ],
        [
         "40",
         "2501",
         "2528",
         "0.9893196202531646"
        ],
        [
         "41",
         "2438",
         "2357",
         "1.034365719134493"
        ],
        [
         "42",
         "2359",
         "2233",
         "1.0564263322884013"
        ],
        [
         "43",
         "2428",
         "2348",
         "1.0340715502555367"
        ],
        [
         "44",
         "2542",
         "2425",
         "1.0482474226804124"
        ],
        [
         "45",
         "2409",
         "2302",
         "1.0464813205907906"
        ],
        [
         "46",
         "2415",
         "2361",
         "1.02287166454892"
        ],
        [
         "47",
         "2417",
         "2336",
         "1.0346746575342465"
        ],
        [
         "48",
         "2429",
         "2239",
         "1.0848593121929433"
        ],
        [
         "49",
         "2412",
         "2258",
         "1.0682019486271037"
        ]
       ],
       "shape": {
        "columns": 3,
        "rows": 106
       }
      },
      "text/html": [
       "<div>\n",
       "<style scoped>\n",
       "    .dataframe tbody tr th:only-of-type {\n",
       "        vertical-align: middle;\n",
       "    }\n",
       "\n",
       "    .dataframe tbody tr th {\n",
       "        vertical-align: top;\n",
       "    }\n",
       "\n",
       "    .dataframe thead th {\n",
       "        text-align: right;\n",
       "    }\n",
       "</style>\n",
       "<table border=\"1\" class=\"dataframe\">\n",
       "  <thead>\n",
       "    <tr style=\"text-align: right;\">\n",
       "      <th></th>\n",
       "      <th>ta_micromol_kg</th>\n",
       "      <th>dic_micromol_kg</th>\n",
       "      <th>ta_dic_ratio</th>\n",
       "    </tr>\n",
       "  </thead>\n",
       "  <tbody>\n",
       "    <tr>\n",
       "      <th>0</th>\n",
       "      <td>3863</td>\n",
       "      <td>3915</td>\n",
       "      <td>0.986718</td>\n",
       "    </tr>\n",
       "    <tr>\n",
       "      <th>1</th>\n",
       "      <td>3685</td>\n",
       "      <td>3698</td>\n",
       "      <td>0.996485</td>\n",
       "    </tr>\n",
       "    <tr>\n",
       "      <th>2</th>\n",
       "      <td>3708</td>\n",
       "      <td>3724</td>\n",
       "      <td>0.995704</td>\n",
       "    </tr>\n",
       "    <tr>\n",
       "      <th>3</th>\n",
       "      <td>3992</td>\n",
       "      <td>3667</td>\n",
       "      <td>1.088628</td>\n",
       "    </tr>\n",
       "    <tr>\n",
       "      <th>4</th>\n",
       "      <td>3023</td>\n",
       "      <td>2928</td>\n",
       "      <td>1.032445</td>\n",
       "    </tr>\n",
       "    <tr>\n",
       "      <th>...</th>\n",
       "      <td>...</td>\n",
       "      <td>...</td>\n",
       "      <td>...</td>\n",
       "    </tr>\n",
       "    <tr>\n",
       "      <th>101</th>\n",
       "      <td>2851</td>\n",
       "      <td>2715</td>\n",
       "      <td>1.050092</td>\n",
       "    </tr>\n",
       "    <tr>\n",
       "      <th>102</th>\n",
       "      <td>2837</td>\n",
       "      <td>2638</td>\n",
       "      <td>1.075436</td>\n",
       "    </tr>\n",
       "    <tr>\n",
       "      <th>103</th>\n",
       "      <td>2857</td>\n",
       "      <td>2608</td>\n",
       "      <td>1.095475</td>\n",
       "    </tr>\n",
       "    <tr>\n",
       "      <th>104</th>\n",
       "      <td>2804</td>\n",
       "      <td>2605</td>\n",
       "      <td>1.076392</td>\n",
       "    </tr>\n",
       "    <tr>\n",
       "      <th>105</th>\n",
       "      <td>2780</td>\n",
       "      <td>2542</td>\n",
       "      <td>1.093627</td>\n",
       "    </tr>\n",
       "  </tbody>\n",
       "</table>\n",
       "<p>106 rows × 3 columns</p>\n",
       "</div>"
      ],
      "text/plain": [
       "     ta_micromol_kg  dic_micromol_kg  ta_dic_ratio\n",
       "0              3863             3915      0.986718\n",
       "1              3685             3698      0.996485\n",
       "2              3708             3724      0.995704\n",
       "3              3992             3667      1.088628\n",
       "4              3023             2928      1.032445\n",
       "..              ...              ...           ...\n",
       "101            2851             2715      1.050092\n",
       "102            2837             2638      1.075436\n",
       "103            2857             2608      1.095475\n",
       "104            2804             2605      1.076392\n",
       "105            2780             2542      1.093627\n",
       "\n",
       "[106 rows x 3 columns]"
      ]
     },
     "execution_count": 40,
     "metadata": {},
     "output_type": "execute_result"
    }
   ],
   "source": [
    "ta_dic_tadicratio"
   ]
  },
  {
   "cell_type": "markdown",
   "id": "067787ac",
   "metadata": {},
   "source": [
    "## **Media y desviación estándar de \"ta_dic_ratio\" para cada estación** "
   ]
  },
  {
   "cell_type": "markdown",
   "id": "d646571e",
   "metadata": {},
   "source": [
    "- Se generan las variables "
   ]
  },
  {
   "cell_type": "code",
   "execution_count": 41,
   "id": "c0a52264",
   "metadata": {},
   "outputs": [],
   "source": [
    "variables = [\"ta_dic_ratio\"]\n",
    "result = CO2Data.groupby(['season'])[variables].agg(['mean', 'std']).reset_index()"
   ]
  },
  {
   "cell_type": "code",
   "execution_count": 42,
   "id": "16dcc522",
   "metadata": {},
   "outputs": [],
   "source": [
    "result.columns = ['season'] + [f\"{var}_{stat}\" for var in variables for stat in ['mean', 'std']]"
   ]
  },
  {
   "cell_type": "code",
   "execution_count": 43,
   "id": "f3146537",
   "metadata": {},
   "outputs": [],
   "source": [
    "from tabulate import tabulate\n",
    "for var in variables:\n",
    "    mean_col = f\"{var}_mean\"\n",
    "    std_col = f\"{var}_std\"\n",
    "    result[f\"{var}_formatted\"] = result.apply(lambda row: f\"{row[mean_col]:.2f} ± {row[std_col]:.2f}\", axis=1)"
   ]
  },
  {
   "cell_type": "code",
   "execution_count": 44,
   "id": "255103aa",
   "metadata": {},
   "outputs": [],
   "source": [
    "formatted_result = result[['season'] + [f\"{var}_formatted\" for var in variables]]"
   ]
  },
  {
   "cell_type": "code",
   "execution_count": 45,
   "id": "d9f5c82a",
   "metadata": {},
   "outputs": [
    {
     "name": "stdout",
     "output_type": "stream",
     "text": [
      "+--------+------------------------+\n",
      "| season | ta_dic_ratio_formatted |\n",
      "+--------+------------------------+\n",
      "|  Dry   |      1.06 ± 0.09       |\n",
      "| Rainy  |      1.02 ± 0.10       |\n",
      "+--------+------------------------+\n"
     ]
    }
   ],
   "source": [
    "table = tabulate(formatted_result, headers='keys', tablefmt='pretty', showindex=False)\n",
    "print(table)"
   ]
  },
  {
   "cell_type": "markdown",
   "id": "66eb5dfa",
   "metadata": {},
   "source": [
    "## **Media y desviación estándar de \"ta_dic_ratio\" para cada estación y área** "
   ]
  },
  {
   "cell_type": "markdown",
   "id": "8a01564a",
   "metadata": {},
   "source": [
    "Arriba ya se tiene definida la variable de la columna de la razón"
   ]
  },
  {
   "cell_type": "code",
   "execution_count": 46,
   "id": "25751e04",
   "metadata": {},
   "outputs": [],
   "source": [
    "result2 = CO2Data.groupby(['season', 'area'])[variables].agg(['mean', 'std']).reset_index()"
   ]
  },
  {
   "cell_type": "code",
   "execution_count": 47,
   "id": "1772d664",
   "metadata": {},
   "outputs": [],
   "source": [
    "result2.columns = ['season', 'area'] + [f\"{var}_{stat}\" for var in variables for stat in ['mean', 'std']]"
   ]
  },
  {
   "cell_type": "code",
   "execution_count": 48,
   "id": "71af92b3",
   "metadata": {},
   "outputs": [],
   "source": [
    "from tabulate import tabulate\n",
    "for var in variables:\n",
    "    mean_col = f\"{var}_mean\"\n",
    "    std_col = f\"{var}_std\"\n",
    "    result2[f\"{var}_formatted\"] = result2.apply(lambda row: f\"{row[mean_col]:.2f} ± {row[std_col]:.2f}\", axis=1)"
   ]
  },
  {
   "cell_type": "code",
   "execution_count": 49,
   "id": "aba16dc7",
   "metadata": {},
   "outputs": [],
   "source": [
    "formatted_result2 = result2[['season', 'area'] + [f\"{var}_formatted\" for var in variables]]"
   ]
  },
  {
   "cell_type": "code",
   "execution_count": 50,
   "id": "1ca8b837",
   "metadata": {},
   "outputs": [
    {
     "name": "stdout",
     "output_type": "stream",
     "text": [
      "+--------+-------+------------------------+\n",
      "| season | area  | ta_dic_ratio_formatted |\n",
      "+--------+-------+------------------------+\n",
      "|  Dry   | Coast |      1.12 ± 0.12       |\n",
      "|  Dry   | Plume |      1.06 ± 0.04       |\n",
      "|  Dry   | River |      1.00 ± 0.04       |\n",
      "| Rainy  | Coast |      1.09 ± 0.13       |\n",
      "| Rainy  | Plume |      1.03 ± 0.05       |\n",
      "| Rainy  | River |      0.95 ± 0.03       |\n",
      "+--------+-------+------------------------+\n"
     ]
    }
   ],
   "source": [
    "table2 = tabulate(formatted_result2, headers='keys', tablefmt='pretty', showindex=False)\n",
    "print(table2)"
   ]
  },
  {
   "cell_type": "markdown",
   "id": "f3c1e499",
   "metadata": {},
   "source": [
    "\n",
    "## **Guardar en un archivo de excel**"
   ]
  },
  {
   "cell_type": "code",
   "execution_count": 51,
   "id": "95132787",
   "metadata": {},
   "outputs": [],
   "source": [
    "formatted_result.to_excel(\"../Datos/MeanAndStdToSeason.xlsx\", index=False)\n",
    "\n",
    "formatted_result2.to_excel(\"../Datos/MeanAndStdToAreaAndSeason.xlsx\", index=False)\n"
   ]
  }
 ],
 "metadata": {
  "kernelspec": {
   "display_name": "Python 3",
   "language": "python",
   "name": "python3"
  },
  "language_info": {
   "codemirror_mode": {
    "name": "ipython",
    "version": 3
   },
   "file_extension": ".py",
   "mimetype": "text/x-python",
   "name": "python",
   "nbconvert_exporter": "python",
   "pygments_lexer": "ipython3",
   "version": "3.13.1"
  }
 },
 "nbformat": 4,
 "nbformat_minor": 5
}
