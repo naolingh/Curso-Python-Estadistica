{
 "cells": [
  {
   "cell_type": "markdown",
   "id": "7aa856bb",
   "metadata": {},
   "source": [
    "### **Ejercicios:**  \n",
    "    - Crear una nueva columna llamada \"TA_DIC_ratio\" que represente la razón entre TA y DIC\n",
    "    - Calcular la media y la desviación estándar de \"TA_DIC_ratio\" para cada estación\n",
    "    - Calcular la media y la desviación estandar de \"TA_DIC_ratio\" para cada estación y área\n",
    "    - Guarda los resultdos en un archivo de excel llamado \"TA_DIC_Season_Areas.xlsx\""
   ]
  },
  {
   "cell_type": "code",
   "execution_count": 31,
   "id": "5ae0b59d",
   "metadata": {},
   "outputs": [],
   "source": [
    "def import_csv(file):\n",
    "    # Read the file into a DataFrame: df\n",
    "    import pandas as pd\n",
    "    return pd.read_csv(file)"
   ]
  },
  {
   "cell_type": "code",
   "execution_count": 32,
   "id": "8f1d78f7",
   "metadata": {},
   "outputs": [],
   "source": [
    "# Path to the file to be imported\n",
    "path = \"../../Datos/Terminos_lagoon_TA_DIC_2023_RawData.csv\"\n",
    "\n",
    "# Import the file\n",
    "CO2Data = import_csv(path)"
   ]
  },
  {
   "cell_type": "code",
   "execution_count": 33,
   "id": "6bd160e2",
   "metadata": {},
   "outputs": [],
   "source": [
    "# Creamos una nueva base de datos (copia)\n",
    "CO2Data_copy = CO2Data.copy()"
   ]
  },
  {
   "cell_type": "markdown",
   "id": "f8353825",
   "metadata": {},
   "source": [
    "## **\"ta_dic_ratio\"**"
   ]
  },
  {
   "cell_type": "markdown",
   "id": "e9c40040",
   "metadata": {},
   "source": [
    "### Obtenemos las dos variables del DataFrame"
   ]
  },
  {
   "cell_type": "markdown",
   "id": "4ebcd1a5",
   "metadata": {},
   "source": [
    "> Realmente esto no es necesario"
   ]
  },
  {
   "cell_type": "code",
   "execution_count": 34,
   "id": "640b4f5a",
   "metadata": {},
   "outputs": [],
   "source": [
    "ta_dic_data = CO2Data_copy[['ta_micromol_kg', 'dic_micromol_kg']]"
   ]
  },
  {
   "cell_type": "code",
   "execution_count": 35,
   "id": "5b3919ad",
   "metadata": {},
   "outputs": [
    {
     "data": {
      "application/vnd.microsoft.datawrangler.viewer.v0+json": {
       "columns": [
        {
         "name": "index",
         "rawType": "int64",
         "type": "integer"
        },
        {
         "name": "ta_micromol_kg",
         "rawType": "int64",
         "type": "integer"
        },
        {
         "name": "dic_micromol_kg",
         "rawType": "int64",
         "type": "integer"
        }
       ],
       "ref": "86e27a36-f304-4e5c-9885-42824c83cc69",
       "rows": [
        [
         "0",
         "3863",
         "3915"
        ],
        [
         "1",
         "3685",
         "3698"
        ],
        [
         "2",
         "3708",
         "3724"
        ],
        [
         "3",
         "3992",
         "3667"
        ],
        [
         "4",
         "3023",
         "2928"
        ],
        [
         "5",
         "2849",
         "2752"
        ],
        [
         "6",
         "2828",
         "2672"
        ],
        [
         "7",
         "2818",
         "2613"
        ],
        [
         "8",
         "2828",
         "2652"
        ],
        [
         "9",
         "2840",
         "2668"
        ],
        [
         "10",
         "2933",
         "2737"
        ],
        [
         "11",
         "2833",
         "2636"
        ],
        [
         "12",
         "2977",
         "2792"
        ],
        [
         "13",
         "2992",
         "2753"
        ],
        [
         "14",
         "2650",
         "2429"
        ],
        [
         "15",
         "2659",
         "2459"
        ],
        [
         "16",
         "2649",
         "2467"
        ],
        [
         "17",
         "2500",
         "2305"
        ],
        [
         "18",
         "3195",
         "3315"
        ],
        [
         "19",
         "3216",
         "3338"
        ],
        [
         "20",
         "3221",
         "3407"
        ],
        [
         "21",
         "3223",
         "3222"
        ],
        [
         "22",
         "3105",
         "3180"
        ],
        [
         "23",
         "3090",
         "3162"
        ],
        [
         "24",
         "3002",
         "3048"
        ],
        [
         "25",
         "3060",
         "3007"
        ],
        [
         "26",
         "2878",
         "2694"
        ],
        [
         "27",
         "2814",
         "2817"
        ],
        [
         "28",
         "2755",
         "2670"
        ],
        [
         "29",
         "2958",
         "2794"
        ],
        [
         "30",
         "2737",
         "2627"
        ],
        [
         "31",
         "3726",
         "2698"
        ],
        [
         "32",
         "2715",
         "2628"
        ],
        [
         "33",
         "3616",
         "2616"
        ],
        [
         "34",
         "2635",
         "2501"
        ],
        [
         "35",
         "3646",
         "2500"
        ],
        [
         "36",
         "2847",
         "2958"
        ],
        [
         "37",
         "2841",
         "2965"
        ],
        [
         "38",
         "2860",
         "2965"
        ],
        [
         "39",
         "2865",
         "2973"
        ],
        [
         "40",
         "2501",
         "2528"
        ],
        [
         "41",
         "2438",
         "2357"
        ],
        [
         "42",
         "2359",
         "2233"
        ],
        [
         "43",
         "2428",
         "2348"
        ],
        [
         "44",
         "2542",
         "2425"
        ],
        [
         "45",
         "2409",
         "2302"
        ],
        [
         "46",
         "2415",
         "2361"
        ],
        [
         "47",
         "2417",
         "2336"
        ],
        [
         "48",
         "2429",
         "2239"
        ],
        [
         "49",
         "2412",
         "2258"
        ]
       ],
       "shape": {
        "columns": 2,
        "rows": 106
       }
      },
      "text/html": [
       "<div>\n",
       "<style scoped>\n",
       "    .dataframe tbody tr th:only-of-type {\n",
       "        vertical-align: middle;\n",
       "    }\n",
       "\n",
       "    .dataframe tbody tr th {\n",
       "        vertical-align: top;\n",
       "    }\n",
       "\n",
       "    .dataframe thead th {\n",
       "        text-align: right;\n",
       "    }\n",
       "</style>\n",
       "<table border=\"1\" class=\"dataframe\">\n",
       "  <thead>\n",
       "    <tr style=\"text-align: right;\">\n",
       "      <th></th>\n",
       "      <th>ta_micromol_kg</th>\n",
       "      <th>dic_micromol_kg</th>\n",
       "    </tr>\n",
       "  </thead>\n",
       "  <tbody>\n",
       "    <tr>\n",
       "      <th>0</th>\n",
       "      <td>3863</td>\n",
       "      <td>3915</td>\n",
       "    </tr>\n",
       "    <tr>\n",
       "      <th>1</th>\n",
       "      <td>3685</td>\n",
       "      <td>3698</td>\n",
       "    </tr>\n",
       "    <tr>\n",
       "      <th>2</th>\n",
       "      <td>3708</td>\n",
       "      <td>3724</td>\n",
       "    </tr>\n",
       "    <tr>\n",
       "      <th>3</th>\n",
       "      <td>3992</td>\n",
       "      <td>3667</td>\n",
       "    </tr>\n",
       "    <tr>\n",
       "      <th>4</th>\n",
       "      <td>3023</td>\n",
       "      <td>2928</td>\n",
       "    </tr>\n",
       "    <tr>\n",
       "      <th>...</th>\n",
       "      <td>...</td>\n",
       "      <td>...</td>\n",
       "    </tr>\n",
       "    <tr>\n",
       "      <th>101</th>\n",
       "      <td>2851</td>\n",
       "      <td>2715</td>\n",
       "    </tr>\n",
       "    <tr>\n",
       "      <th>102</th>\n",
       "      <td>2837</td>\n",
       "      <td>2638</td>\n",
       "    </tr>\n",
       "    <tr>\n",
       "      <th>103</th>\n",
       "      <td>2857</td>\n",
       "      <td>2608</td>\n",
       "    </tr>\n",
       "    <tr>\n",
       "      <th>104</th>\n",
       "      <td>2804</td>\n",
       "      <td>2605</td>\n",
       "    </tr>\n",
       "    <tr>\n",
       "      <th>105</th>\n",
       "      <td>2780</td>\n",
       "      <td>2542</td>\n",
       "    </tr>\n",
       "  </tbody>\n",
       "</table>\n",
       "<p>106 rows × 2 columns</p>\n",
       "</div>"
      ],
      "text/plain": [
       "     ta_micromol_kg  dic_micromol_kg\n",
       "0              3863             3915\n",
       "1              3685             3698\n",
       "2              3708             3724\n",
       "3              3992             3667\n",
       "4              3023             2928\n",
       "..              ...              ...\n",
       "101            2851             2715\n",
       "102            2837             2638\n",
       "103            2857             2608\n",
       "104            2804             2605\n",
       "105            2780             2542\n",
       "\n",
       "[106 rows x 2 columns]"
      ]
     },
     "execution_count": 35,
     "metadata": {},
     "output_type": "execute_result"
    }
   ],
   "source": [
    "ta_dic_data"
   ]
  },
  {
   "cell_type": "markdown",
   "id": "b20cda60",
   "metadata": {},
   "source": [
    "### Creamos la nueva columna con operaciones entre columnas"
   ]
  },
  {
   "cell_type": "markdown",
   "id": "fe32fa07",
   "metadata": {},
   "source": [
    "Se crea una columna fija en el DataFrame con la sintaxis: *NombreDelDataFrame[\"Nombre_De_La_Nueva_Columna]\"*"
   ]
  },
  {
   "cell_type": "code",
   "execution_count": 36,
   "id": "4c981bbf",
   "metadata": {},
   "outputs": [],
   "source": [
    "CO2Data_copy[\"ta_dic_ratio\"] = CO2Data_copy[\"ta_micromol_kg\"] / CO2Data_copy[\"dic_micromol_kg\"]"
   ]
  },
  {
   "cell_type": "code",
   "execution_count": 37,
   "id": "aab626e0",
   "metadata": {},
   "outputs": [
    {
     "data": {
      "application/vnd.microsoft.datawrangler.viewer.v0+json": {
       "columns": [
        {
         "name": "index",
         "rawType": "int64",
         "type": "integer"
        },
        {
         "name": "ta_dic_ratio",
         "rawType": "float64",
         "type": "float"
        }
       ],
       "ref": "30528df1-22ab-4ba0-af87-d4564f1844db",
       "rows": [
        [
         "0",
         "0.9867177522349936"
        ],
        [
         "1",
         "0.9964845862628448"
        ],
        [
         "2",
         "0.9957035445757251"
        ],
        [
         "3",
         "1.0886283065175892"
        ],
        [
         "4",
         "1.032445355191257"
        ],
        [
         "5",
         "1.0352470930232558"
        ],
        [
         "6",
         "1.0583832335329342"
        ],
        [
         "7",
         "1.0784538844240337"
        ],
        [
         "8",
         "1.0663650075414781"
        ],
        [
         "9",
         "1.0644677661169415"
        ],
        [
         "10",
         "1.0716112531969308"
        ],
        [
         "11",
         "1.0747344461305008"
        ],
        [
         "12",
         "1.0662607449856734"
        ],
        [
         "13",
         "1.0868143843080276"
        ],
        [
         "14",
         "1.0909839440098805"
        ],
        [
         "15",
         "1.0813338755591704"
        ],
        [
         "16",
         "1.0737738143494122"
        ],
        [
         "17",
         "1.0845986984815619"
        ],
        [
         "18",
         "0.9638009049773756"
        ],
        [
         "19",
         "0.96345116836429"
        ],
        [
         "20",
         "0.9454065159964778"
        ],
        [
         "21",
         "1.000310366232154"
        ],
        [
         "22",
         "0.9764150943396226"
        ],
        [
         "23",
         "0.9772296015180265"
        ],
        [
         "24",
         "0.9849081364829396"
        ],
        [
         "25",
         "1.01762554040572"
        ],
        [
         "26",
         "1.0682999257609502"
        ],
        [
         "27",
         "0.9989350372736954"
        ],
        [
         "28",
         "1.0318352059925093"
        ],
        [
         "29",
         "1.0586972083035076"
        ],
        [
         "30",
         "1.0418728587742672"
        ],
        [
         "31",
         "1.381022979985174"
        ],
        [
         "32",
         "1.0331050228310503"
        ],
        [
         "33",
         "1.382262996941896"
        ],
        [
         "34",
         "1.053578568572571"
        ],
        [
         "35",
         "1.4584"
        ],
        [
         "36",
         "0.962474645030426"
        ],
        [
         "37",
         "0.9581787521079258"
        ],
        [
         "38",
         "0.9645868465430016"
        ],
        [
         "39",
         "0.963673057517659"
        ],
        [
         "40",
         "0.9893196202531646"
        ],
        [
         "41",
         "1.034365719134493"
        ],
        [
         "42",
         "1.0564263322884013"
        ],
        [
         "43",
         "1.0340715502555367"
        ],
        [
         "44",
         "1.0482474226804124"
        ],
        [
         "45",
         "1.0464813205907906"
        ],
        [
         "46",
         "1.02287166454892"
        ],
        [
         "47",
         "1.0346746575342465"
        ],
        [
         "48",
         "1.0848593121929433"
        ],
        [
         "49",
         "1.0682019486271037"
        ]
       ],
       "shape": {
        "columns": 1,
        "rows": 106
       }
      },
      "text/plain": [
       "0      0.986718\n",
       "1      0.996485\n",
       "2      0.995704\n",
       "3      1.088628\n",
       "4      1.032445\n",
       "         ...   \n",
       "101    1.050092\n",
       "102    1.075436\n",
       "103    1.095475\n",
       "104    1.076392\n",
       "105    1.093627\n",
       "Name: ta_dic_ratio, Length: 106, dtype: float64"
      ]
     },
     "execution_count": 37,
     "metadata": {},
     "output_type": "execute_result"
    }
   ],
   "source": [
    "CO2Data_copy[\"ta_dic_ratio\"]"
   ]
  },
  {
   "cell_type": "markdown",
   "id": "93f80bad",
   "metadata": {},
   "source": [
    "### Colocamos las 3 columnas en una sola tabla"
   ]
  },
  {
   "cell_type": "code",
   "execution_count": 38,
   "id": "e2ef867f",
   "metadata": {},
   "outputs": [],
   "source": [
    "ta_dic_tadicratio = CO2Data_copy[[\"ta_micromol_kg\", \"dic_micromol_kg\", \"ta_dic_ratio\"]]"
   ]
  },
  {
   "cell_type": "code",
   "execution_count": 39,
   "id": "79a33eb9",
   "metadata": {},
   "outputs": [
    {
     "data": {
      "application/vnd.microsoft.datawrangler.viewer.v0+json": {
       "columns": [
        {
         "name": "index",
         "rawType": "int64",
         "type": "integer"
        },
        {
         "name": "ta_micromol_kg",
         "rawType": "int64",
         "type": "integer"
        },
        {
         "name": "dic_micromol_kg",
         "rawType": "int64",
         "type": "integer"
        },
        {
         "name": "ta_dic_ratio",
         "rawType": "float64",
         "type": "float"
        }
       ],
       "ref": "53604330-54e6-4f7f-aa52-ed5ccb66ce06",
       "rows": [
        [
         "0",
         "3863",
         "3915",
         "0.9867177522349936"
        ],
        [
         "1",
         "3685",
         "3698",
         "0.9964845862628448"
        ],
        [
         "2",
         "3708",
         "3724",
         "0.9957035445757251"
        ],
        [
         "3",
         "3992",
         "3667",
         "1.0886283065175892"
        ],
        [
         "4",
         "3023",
         "2928",
         "1.032445355191257"
        ],
        [
         "5",
         "2849",
         "2752",
         "1.0352470930232558"
        ],
        [
         "6",
         "2828",
         "2672",
         "1.0583832335329342"
        ],
        [
         "7",
         "2818",
         "2613",
         "1.0784538844240337"
        ],
        [
         "8",
         "2828",
         "2652",
         "1.0663650075414781"
        ],
        [
         "9",
         "2840",
         "2668",
         "1.0644677661169415"
        ],
        [
         "10",
         "2933",
         "2737",
         "1.0716112531969308"
        ],
        [
         "11",
         "2833",
         "2636",
         "1.0747344461305008"
        ],
        [
         "12",
         "2977",
         "2792",
         "1.0662607449856734"
        ],
        [
         "13",
         "2992",
         "2753",
         "1.0868143843080276"
        ],
        [
         "14",
         "2650",
         "2429",
         "1.0909839440098805"
        ],
        [
         "15",
         "2659",
         "2459",
         "1.0813338755591704"
        ],
        [
         "16",
         "2649",
         "2467",
         "1.0737738143494122"
        ],
        [
         "17",
         "2500",
         "2305",
         "1.0845986984815619"
        ],
        [
         "18",
         "3195",
         "3315",
         "0.9638009049773756"
        ],
        [
         "19",
         "3216",
         "3338",
         "0.96345116836429"
        ],
        [
         "20",
         "3221",
         "3407",
         "0.9454065159964778"
        ],
        [
         "21",
         "3223",
         "3222",
         "1.000310366232154"
        ],
        [
         "22",
         "3105",
         "3180",
         "0.9764150943396226"
        ],
        [
         "23",
         "3090",
         "3162",
         "0.9772296015180265"
        ],
        [
         "24",
         "3002",
         "3048",
         "0.9849081364829396"
        ],
        [
         "25",
         "3060",
         "3007",
         "1.01762554040572"
        ],
        [
         "26",
         "2878",
         "2694",
         "1.0682999257609502"
        ],
        [
         "27",
         "2814",
         "2817",
         "0.9989350372736954"
        ],
        [
         "28",
         "2755",
         "2670",
         "1.0318352059925093"
        ],
        [
         "29",
         "2958",
         "2794",
         "1.0586972083035076"
        ],
        [
         "30",
         "2737",
         "2627",
         "1.0418728587742672"
        ],
        [
         "31",
         "3726",
         "2698",
         "1.381022979985174"
        ],
        [
         "32",
         "2715",
         "2628",
         "1.0331050228310503"
        ],
        [
         "33",
         "3616",
         "2616",
         "1.382262996941896"
        ],
        [
         "34",
         "2635",
         "2501",
         "1.053578568572571"
        ],
        [
         "35",
         "3646",
         "2500",
         "1.4584"
        ],
        [
         "36",
         "2847",
         "2958",
         "0.962474645030426"
        ],
        [
         "37",
         "2841",
         "2965",
         "0.9581787521079258"
        ],
        [
         "38",
         "2860",
         "2965",
         "0.9645868465430016"
        ],
        [
         "39",
         "2865",
         "2973",
         "0.963673057517659"
        ],
        [
         "40",
         "2501",
         "2528",
         "0.9893196202531646"
        ],
        [
         "41",
         "2438",
         "2357",
         "1.034365719134493"
        ],
        [
         "42",
         "2359",
         "2233",
         "1.0564263322884013"
        ],
        [
         "43",
         "2428",
         "2348",
         "1.0340715502555367"
        ],
        [
         "44",
         "2542",
         "2425",
         "1.0482474226804124"
        ],
        [
         "45",
         "2409",
         "2302",
         "1.0464813205907906"
        ],
        [
         "46",
         "2415",
         "2361",
         "1.02287166454892"
        ],
        [
         "47",
         "2417",
         "2336",
         "1.0346746575342465"
        ],
        [
         "48",
         "2429",
         "2239",
         "1.0848593121929433"
        ],
        [
         "49",
         "2412",
         "2258",
         "1.0682019486271037"
        ]
       ],
       "shape": {
        "columns": 3,
        "rows": 106
       }
      },
      "text/html": [
       "<div>\n",
       "<style scoped>\n",
       "    .dataframe tbody tr th:only-of-type {\n",
       "        vertical-align: middle;\n",
       "    }\n",
       "\n",
       "    .dataframe tbody tr th {\n",
       "        vertical-align: top;\n",
       "    }\n",
       "\n",
       "    .dataframe thead th {\n",
       "        text-align: right;\n",
       "    }\n",
       "</style>\n",
       "<table border=\"1\" class=\"dataframe\">\n",
       "  <thead>\n",
       "    <tr style=\"text-align: right;\">\n",
       "      <th></th>\n",
       "      <th>ta_micromol_kg</th>\n",
       "      <th>dic_micromol_kg</th>\n",
       "      <th>ta_dic_ratio</th>\n",
       "    </tr>\n",
       "  </thead>\n",
       "  <tbody>\n",
       "    <tr>\n",
       "      <th>0</th>\n",
       "      <td>3863</td>\n",
       "      <td>3915</td>\n",
       "      <td>0.986718</td>\n",
       "    </tr>\n",
       "    <tr>\n",
       "      <th>1</th>\n",
       "      <td>3685</td>\n",
       "      <td>3698</td>\n",
       "      <td>0.996485</td>\n",
       "    </tr>\n",
       "    <tr>\n",
       "      <th>2</th>\n",
       "      <td>3708</td>\n",
       "      <td>3724</td>\n",
       "      <td>0.995704</td>\n",
       "    </tr>\n",
       "    <tr>\n",
       "      <th>3</th>\n",
       "      <td>3992</td>\n",
       "      <td>3667</td>\n",
       "      <td>1.088628</td>\n",
       "    </tr>\n",
       "    <tr>\n",
       "      <th>4</th>\n",
       "      <td>3023</td>\n",
       "      <td>2928</td>\n",
       "      <td>1.032445</td>\n",
       "    </tr>\n",
       "    <tr>\n",
       "      <th>...</th>\n",
       "      <td>...</td>\n",
       "      <td>...</td>\n",
       "      <td>...</td>\n",
       "    </tr>\n",
       "    <tr>\n",
       "      <th>101</th>\n",
       "      <td>2851</td>\n",
       "      <td>2715</td>\n",
       "      <td>1.050092</td>\n",
       "    </tr>\n",
       "    <tr>\n",
       "      <th>102</th>\n",
       "      <td>2837</td>\n",
       "      <td>2638</td>\n",
       "      <td>1.075436</td>\n",
       "    </tr>\n",
       "    <tr>\n",
       "      <th>103</th>\n",
       "      <td>2857</td>\n",
       "      <td>2608</td>\n",
       "      <td>1.095475</td>\n",
       "    </tr>\n",
       "    <tr>\n",
       "      <th>104</th>\n",
       "      <td>2804</td>\n",
       "      <td>2605</td>\n",
       "      <td>1.076392</td>\n",
       "    </tr>\n",
       "    <tr>\n",
       "      <th>105</th>\n",
       "      <td>2780</td>\n",
       "      <td>2542</td>\n",
       "      <td>1.093627</td>\n",
       "    </tr>\n",
       "  </tbody>\n",
       "</table>\n",
       "<p>106 rows × 3 columns</p>\n",
       "</div>"
      ],
      "text/plain": [
       "     ta_micromol_kg  dic_micromol_kg  ta_dic_ratio\n",
       "0              3863             3915      0.986718\n",
       "1              3685             3698      0.996485\n",
       "2              3708             3724      0.995704\n",
       "3              3992             3667      1.088628\n",
       "4              3023             2928      1.032445\n",
       "..              ...              ...           ...\n",
       "101            2851             2715      1.050092\n",
       "102            2837             2638      1.075436\n",
       "103            2857             2608      1.095475\n",
       "104            2804             2605      1.076392\n",
       "105            2780             2542      1.093627\n",
       "\n",
       "[106 rows x 3 columns]"
      ]
     },
     "execution_count": 39,
     "metadata": {},
     "output_type": "execute_result"
    }
   ],
   "source": [
    "ta_dic_tadicratio"
   ]
  },
  {
   "cell_type": "markdown",
   "id": "067787ac",
   "metadata": {},
   "source": [
    "## **Media y desviación estándar de \"ta_dic_ratio\" para cada estación** "
   ]
  },
  {
   "cell_type": "markdown",
   "id": "d646571e",
   "metadata": {},
   "source": [
    "- Se generan las variables "
   ]
  },
  {
   "cell_type": "code",
   "execution_count": 40,
   "id": "c0a52264",
   "metadata": {},
   "outputs": [],
   "source": [
    "variables = [\"ta_dic_ratio\"]\n",
    "result = CO2Data_copy.groupby(['season'])[variables].agg(['mean', 'std']).reset_index()"
   ]
  },
  {
   "cell_type": "code",
   "execution_count": 41,
   "id": "16dcc522",
   "metadata": {},
   "outputs": [],
   "source": [
    "result.columns = ['season'] + [f\"{var}_{stat}\" for var in variables for stat in ['mean', 'std']]"
   ]
  },
  {
   "cell_type": "code",
   "execution_count": 42,
   "id": "f3146537",
   "metadata": {},
   "outputs": [],
   "source": [
    "from tabulate import tabulate\n",
    "for var in variables:\n",
    "    mean_col = f\"{var}_mean\"\n",
    "    std_col = f\"{var}_std\"\n",
    "    result[f\"{var}_formatted\"] = result.apply(lambda row: f\"{row[mean_col]:.2f} ± {row[std_col]:.2f}\", axis=1)"
   ]
  },
  {
   "cell_type": "code",
   "execution_count": 43,
   "id": "255103aa",
   "metadata": {},
   "outputs": [],
   "source": [
    "formatted_result = result[['season'] + [f\"{var}_formatted\" for var in variables]]"
   ]
  },
  {
   "cell_type": "code",
   "execution_count": 44,
   "id": "d9f5c82a",
   "metadata": {},
   "outputs": [
    {
     "name": "stdout",
     "output_type": "stream",
     "text": [
      "+--------+------------------------+\n",
      "| season | ta_dic_ratio_formatted |\n",
      "+--------+------------------------+\n",
      "|  Dry   |      1.06 ± 0.09       |\n",
      "| Rainy  |      1.02 ± 0.10       |\n",
      "+--------+------------------------+\n"
     ]
    }
   ],
   "source": [
    "table = tabulate(formatted_result, headers='keys', tablefmt='pretty', showindex=False)\n",
    "print(table)"
   ]
  },
  {
   "cell_type": "markdown",
   "id": "66eb5dfa",
   "metadata": {},
   "source": [
    "## **Media y desviación estándar de \"ta_dic_ratio\" para cada estación y área** "
   ]
  },
  {
   "cell_type": "markdown",
   "id": "8a01564a",
   "metadata": {},
   "source": [
    "Arriba ya se tiene definida la variable de la columna de la razón"
   ]
  },
  {
   "cell_type": "code",
   "execution_count": 45,
   "id": "25751e04",
   "metadata": {},
   "outputs": [],
   "source": [
    "result2 = CO2Data_copy.groupby(['season', 'area'])[variables].agg(['mean', 'std']).reset_index()"
   ]
  },
  {
   "cell_type": "code",
   "execution_count": 46,
   "id": "1772d664",
   "metadata": {},
   "outputs": [],
   "source": [
    "result2.columns = ['season', 'area'] + [f\"{var}_{stat}\" for var in variables for stat in ['mean', 'std']]"
   ]
  },
  {
   "cell_type": "code",
   "execution_count": 47,
   "id": "71af92b3",
   "metadata": {},
   "outputs": [],
   "source": [
    "from tabulate import tabulate\n",
    "for var in variables:\n",
    "    mean_col = f\"{var}_mean\"\n",
    "    std_col = f\"{var}_std\"\n",
    "    result2[f\"{var}_formatted\"] = result2.apply(lambda row: f\"{row[mean_col]:.2f} ± {row[std_col]:.2f}\", axis=1)"
   ]
  },
  {
   "cell_type": "code",
   "execution_count": 48,
   "id": "aba16dc7",
   "metadata": {},
   "outputs": [],
   "source": [
    "formatted_result2 = result2[['season', 'area'] + [f\"{var}_formatted\" for var in variables]]"
   ]
  },
  {
   "cell_type": "code",
   "execution_count": 49,
   "id": "1ca8b837",
   "metadata": {},
   "outputs": [
    {
     "name": "stdout",
     "output_type": "stream",
     "text": [
      "+--------+-------+------------------------+\n",
      "| season | area  | ta_dic_ratio_formatted |\n",
      "+--------+-------+------------------------+\n",
      "|  Dry   | Coast |      1.12 ± 0.12       |\n",
      "|  Dry   | Plume |      1.06 ± 0.04       |\n",
      "|  Dry   | River |      1.00 ± 0.04       |\n",
      "| Rainy  | Coast |      1.09 ± 0.13       |\n",
      "| Rainy  | Plume |      1.03 ± 0.05       |\n",
      "| Rainy  | River |      0.95 ± 0.03       |\n",
      "+--------+-------+------------------------+\n"
     ]
    }
   ],
   "source": [
    "table2 = tabulate(formatted_result2, headers='keys', tablefmt='pretty', showindex=False)\n",
    "print(table2)"
   ]
  },
  {
   "cell_type": "markdown",
   "id": "f3c1e499",
   "metadata": {},
   "source": [
    "\n",
    "## **Guardar en un archivo de excel**"
   ]
  },
  {
   "cell_type": "code",
   "execution_count": 51,
   "id": "95132787",
   "metadata": {},
   "outputs": [],
   "source": [
    "formatted_result.to_excel(\"../../Datos/MeanAndStdToSeason.xlsx\", index=False)\n",
    "\n",
    "formatted_result2.to_excel(\"../../Datos/MeanAndStdToAreaAndSeason.xlsx\", index=False)\n"
   ]
  }
 ],
 "metadata": {
  "kernelspec": {
   "display_name": "Python 3",
   "language": "python",
   "name": "python3"
  },
  "language_info": {
   "codemirror_mode": {
    "name": "ipython",
    "version": 3
   },
   "file_extension": ".py",
   "mimetype": "text/x-python",
   "name": "python",
   "nbconvert_exporter": "python",
   "pygments_lexer": "ipython3",
   "version": "3.13.1"
  }
 },
 "nbformat": 4,
 "nbformat_minor": 5
}
