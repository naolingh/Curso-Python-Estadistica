{
 "cells": [
  {
   "cell_type": "markdown",
   "id": "f5654a0c",
   "metadata": {},
   "source": [
    "### Part 1"
   ]
  },
  {
   "cell_type": "markdown",
   "id": "bebf2154",
   "metadata": {},
   "source": [
    "* Imprimir *Hola mundo*"
   ]
  },
  {
   "cell_type": "code",
   "execution_count": 2,
   "id": "8610297b",
   "metadata": {},
   "outputs": [
    {
     "name": "stdout",
     "output_type": "stream",
     "text": [
      "Hola mundo\n"
     ]
    }
   ],
   "source": [
    "print(\"Hola mundo\")"
   ]
  },
  {
   "cell_type": "markdown",
   "id": "10b478d2",
   "metadata": {},
   "source": [
    "* Genera una función llamada *Saludos = Hola me llamo Arturo*"
   ]
  },
  {
   "cell_type": "code",
   "execution_count": 3,
   "id": "e4b8f7a4",
   "metadata": {},
   "outputs": [],
   "source": [
    "Saludos = \"Hola me llamo Arturo\""
   ]
  },
  {
   "cell_type": "markdown",
   "id": "2d0bc6b8",
   "metadata": {},
   "source": [
    "* Imprimir la función Saludos"
   ]
  },
  {
   "cell_type": "code",
   "execution_count": 5,
   "id": "8417ba69",
   "metadata": {},
   "outputs": [
    {
     "name": "stdout",
     "output_type": "stream",
     "text": [
      "Hola me llamo Arturo\n"
     ]
    }
   ],
   "source": [
    "print(Saludos)"
   ]
  },
  {
   "cell_type": "markdown",
   "id": "bd25ccae",
   "metadata": {},
   "source": [
    "### Part 2\n"
   ]
  },
  {
   "cell_type": "markdown",
   "id": "d7bbad21",
   "metadata": {},
   "source": [
    "#### Suma"
   ]
  },
  {
   "cell_type": "code",
   "execution_count": 7,
   "id": "f7c106bb",
   "metadata": {},
   "outputs": [
    {
     "data": {
      "text/plain": [
       "600"
      ]
     },
     "execution_count": 7,
     "metadata": {},
     "output_type": "execute_result"
    }
   ],
   "source": [
    "523 + 77"
   ]
  },
  {
   "cell_type": "markdown",
   "id": "e02e5843",
   "metadata": {},
   "source": [
    "#### Resta"
   ]
  },
  {
   "cell_type": "code",
   "execution_count": 8,
   "id": "f984e319",
   "metadata": {},
   "outputs": [
    {
     "data": {
      "text/plain": [
       "446"
      ]
     },
     "execution_count": 8,
     "metadata": {},
     "output_type": "execute_result"
    }
   ],
   "source": [
    "523 - 77"
   ]
  },
  {
   "cell_type": "markdown",
   "id": "e0ce7117",
   "metadata": {},
   "source": [
    "#### Multiplicación"
   ]
  },
  {
   "cell_type": "code",
   "execution_count": 11,
   "id": "d1381890",
   "metadata": {},
   "outputs": [
    {
     "data": {
      "text/plain": [
       "2.4000000000000004"
      ]
     },
     "execution_count": 11,
     "metadata": {},
     "output_type": "execute_result"
    }
   ],
   "source": [
    "0.8 * 3"
   ]
  },
  {
   "cell_type": "markdown",
   "id": "5f99bfcb",
   "metadata": {},
   "source": [
    "#### División"
   ]
  },
  {
   "cell_type": "code",
   "execution_count": 12,
   "id": "4c135bb1",
   "metadata": {},
   "outputs": [
    {
     "data": {
      "text/plain": [
       "11.0"
      ]
     },
     "execution_count": 12,
     "metadata": {},
     "output_type": "execute_result"
    }
   ],
   "source": [
    "33 / 3"
   ]
  }
 ],
 "metadata": {
  "kernelspec": {
   "display_name": "Python 3",
   "language": "python",
   "name": "python3"
  },
  "language_info": {
   "codemirror_mode": {
    "name": "ipython",
    "version": 3
   },
   "file_extension": ".py",
   "mimetype": "text/x-python",
   "name": "python",
   "nbconvert_exporter": "python",
   "pygments_lexer": "ipython3",
   "version": "3.13.1"
  }
 },
 "nbformat": 4,
 "nbformat_minor": 5
}
