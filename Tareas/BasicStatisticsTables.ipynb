{
 "cells": [
  {
   "cell_type": "markdown",
   "id": "340acc92",
   "metadata": {},
   "source": [
    "# **Crear una tabla de medias  con su desviación estandar**\n"
   ]
  },
  {
   "cell_type": "markdown",
   "id": "a562e068",
   "metadata": {},
   "source": [
    "## Importar y explorar los datos"
   ]
  },
  {
   "cell_type": "code",
   "execution_count": 138,
   "id": "d22bbfe2",
   "metadata": {},
   "outputs": [],
   "source": [
    "def import_csv(file):\n",
    "    # Leé el archivo en DataFrame : df\n",
    "    import pandas as pd\n",
    "    return pd.read_csv(file)\n"
   ]
  },
  {
   "cell_type": "markdown",
   "id": "5f9397b5",
   "metadata": {},
   "source": [
    ">Importar el path o la ubicación del archivo .csv"
   ]
  },
  {
   "cell_type": "code",
   "execution_count": 139,
   "id": "5085ce0d",
   "metadata": {},
   "outputs": [],
   "source": [
    "path = \"../Datos/Terminos_lagoon_TA_DIC_2023_RawData.csv\"\n"
   ]
  },
  {
   "cell_type": "markdown",
   "id": "b8fcaff6",
   "metadata": {},
   "source": [
    "> Importar el archivo"
   ]
  },
  {
   "cell_type": "code",
   "execution_count": 140,
   "id": "83a2bfc1",
   "metadata": {},
   "outputs": [],
   "source": [
    "datos = import_csv(path)"
   ]
  },
  {
   "cell_type": "markdown",
   "id": "eedb351f",
   "metadata": {},
   "source": [
    "## Explorar la base de datos"
   ]
  },
  {
   "cell_type": "code",
   "execution_count": 141,
   "id": "187778c1",
   "metadata": {},
   "outputs": [
    {
     "name": "stdout",
     "output_type": "stream",
     "text": [
      "   sample      date     estuary   area station layer_depth season  \\\n",
      "0  CDL01S  5/3/2020  Candelaria  River   CDL01     Surface    Dry   \n",
      "1  CDL01F  5/3/2020  Candelaria  River   CDL01      Bottom    Dry   \n",
      "2  CDL02S  5/3/2020  Candelaria  River   CDL02     Surface    Dry   \n",
      "3  CDL02F  5/3/2020  Candelaria  River   CDL02      Bottom    Dry   \n",
      "4  CDL03S  5/3/2020  Candelaria  River   CDL03     Surface    Dry   \n",
      "\n",
      "   chlorophy_microg_l  cond_microsiemens_cm  depth_m  ...  do_mg_l  sal_psu  \\\n",
      "0                0.36                7015.4    0.464  ...     7.12     3.56   \n",
      "1                4.19               29886.1    7.792  ...     4.90    16.97   \n",
      "2                0.92               16691.1    0.453  ...     6.99     8.94   \n",
      "3                2.23               24847.4    1.261  ...     6.52    13.87   \n",
      "4                0.58               46341.6    0.465  ...     6.24    28.06   \n",
      "\n",
      "   sp_cond_microsiemens_cm  turbidity_fnu  temp_c  latitude  longitude  \\\n",
      "0                   6547.7           1.47  28.740  18.55736  -91.25012   \n",
      "1                  27751.2          95.33  29.028  18.55722  -91.24990   \n",
      "2                  15429.1           5.50  29.283  18.61007  -91.24410   \n",
      "3                  23074.0          13.44  29.024  18.61005  -91.24403   \n",
      "4                  43670.8           3.60  28.202  18.63166  -91.29359   \n",
      "\n",
      "   dic_micromol_kg  ta_micromol_kg  dummy_data  \n",
      "0             3915            3863      3685.0  \n",
      "1             3698            3685         NaN  \n",
      "2             3724            3708      3708.0  \n",
      "3             3667            3992      3992.0  \n",
      "4             2928            3023      3023.0  \n",
      "\n",
      "[5 rows x 21 columns]\n"
     ]
    }
   ],
   "source": [
    "print(datos.head())"
   ]
  },
  {
   "cell_type": "markdown",
   "id": "b6a449f2",
   "metadata": {},
   "source": [
    "## Agrupar los datos por una columna categórica y calcular la media y la desviación estándar de una columna númerica"
   ]
  },
  {
   "cell_type": "markdown",
   "id": "f72f027b",
   "metadata": {},
   "source": [
    "> Definimos las columnas a analizar"
   ]
  },
  {
   "cell_type": "code",
   "execution_count": 142,
   "id": "636c9ee9",
   "metadata": {},
   "outputs": [],
   "source": [
    "variables = ['dic_micromol_kg', 'ta_micromol_kg', 'sal_psu']"
   ]
  },
  {
   "cell_type": "markdown",
   "id": "ef48de3f",
   "metadata": {},
   "source": [
    "> Calculamos la media y la desviación estándar agupando por categorias"
   ]
  },
  {
   "cell_type": "code",
   "execution_count": 143,
   "id": "350ddbc8",
   "metadata": {},
   "outputs": [],
   "source": [
    "result = datos.groupby(['season', 'estuary'])[variables].agg(['mean', 'std']).reset_index()"
   ]
  },
  {
   "cell_type": "markdown",
   "id": "26a0415f",
   "metadata": {},
   "source": [
    "> Renombramos las columnas para mayor claridad"
   ]
  },
  {
   "cell_type": "code",
   "execution_count": 144,
   "id": "a88cd878",
   "metadata": {},
   "outputs": [],
   "source": [
    "#result.columns = ['_'.join(col).strip() if isinstance(col, tuple) else col for col in result.columns]"
   ]
  },
  {
   "cell_type": "code",
   "execution_count": 145,
   "id": "dd9aa006",
   "metadata": {},
   "outputs": [],
   "source": [
    "#print(result)"
   ]
  },
  {
   "cell_type": "markdown",
   "id": "361ff558",
   "metadata": {},
   "source": [
    "#### Crear una tabla con la media ± la desviación estandar "
   ]
  },
  {
   "cell_type": "markdown",
   "id": "b7ea14ac",
   "metadata": {},
   "source": [
    ">Asignar nombres adecuados a las columnas"
   ]
  },
  {
   "cell_type": "code",
   "execution_count": 146,
   "id": "9208a2b9",
   "metadata": {},
   "outputs": [],
   "source": [
    "result.columns = ['season', 'estuary'] + [f\"{var}_{stat}\" for var in variables for stat in ['mean', 'std']]"
   ]
  },
  {
   "cell_type": "markdown",
   "id": "b039022b",
   "metadata": {},
   "source": [
    ">Formatear los valores para mostrar la media ± desv. std con 2 cifras significativas"
   ]
  },
  {
   "cell_type": "code",
   "execution_count": 147,
   "id": "9ef845ee",
   "metadata": {},
   "outputs": [],
   "source": [
    "from tabulate import tabulate\n",
    "for var in variables:\n",
    "    mean_col = f\"{var}_mean\"\n",
    "    std_col = f\"{var}_std\"\n",
    "    result[f\"{var}_formatted\"] = result.apply(lambda row: f\"{row[mean_col]:.2f} ± {row[std_col]:.2f}\", axis=1)"
   ]
  },
  {
   "cell_type": "markdown",
   "id": "d04366ab",
   "metadata": {},
   "source": [
    "> Selecciona solo las columnas formateadas junto con los indices"
   ]
  },
  {
   "cell_type": "code",
   "execution_count": 148,
   "id": "7de123b1",
   "metadata": {},
   "outputs": [],
   "source": [
    "formatted_result = result[['season', 'estuary'] + [f\"{var}_formatted\" for var in variables]]"
   ]
  },
  {
   "cell_type": "markdown",
   "id": "08662973",
   "metadata": {},
   "source": [
    ">Mostrar la tabla con los resultados formateados usando tabulate"
   ]
  },
  {
   "cell_type": "code",
   "execution_count": 149,
   "id": "560f3d81",
   "metadata": {},
   "outputs": [
    {
     "name": "stdout",
     "output_type": "stream",
     "text": [
      "+--------+------------+---------------------------+--------------------------+-------------------+\n",
      "| season |  estuary   | dic_micromol_kg_formatted | ta_micromol_kg_formatted | sal_psu_formatted |\n",
      "+--------+------------+---------------------------+--------------------------+-------------------+\n",
      "|  Dry   | Candelaria |     2917.06 ± 630.59      |     3076.78 ± 556.68     |   23.63 ± 12.12   |\n",
      "|  Dry   |  Palizada  |     2968.19 ± 391.24      |     3107.89 ± 323.18     |   16.39 ± 13.83   |\n",
      "| Rainy  | Candelaria |     2474.12 ± 306.41      |     2537.06 ± 192.85     |   15.16 ± 13.94   |\n",
      "| Rainy  |  Palizada  |     2507.28 ± 216.75      |     2529.33 ± 260.96     |    8.53 ± 9.94    |\n",
      "+--------+------------+---------------------------+--------------------------+-------------------+\n"
     ]
    }
   ],
   "source": [
    "table = tabulate(formatted_result, headers='keys', tablefmt='pretty', showindex=False)\n",
    "print(table)"
   ]
  },
  {
   "cell_type": "markdown",
   "id": "8e55e1c7",
   "metadata": {},
   "source": [
    "#### Lo pone como notación cientifica por lo que lo vamos a quitar"
   ]
  },
  {
   "cell_type": "markdown",
   "id": "bd0c51da",
   "metadata": {},
   "source": [
    "> en la linea del código donde esta:"
   ]
  },
  {
   "cell_type": "markdown",
   "id": "29885c55",
   "metadata": {},
   "source": [
    ">     result[f\"{var}_formatted\"] = result.apply(lambda row: f\"{row[mean_col]:.2g} ± {row[std_col]:.2g}\", axis=1)"
   ]
  },
  {
   "cell_type": "markdown",
   "id": "b44730f2",
   "metadata": {},
   "source": [
    "> se cambia el *.2g* por *,.2f* "
   ]
  },
  {
   "cell_type": "markdown",
   "id": "eba2ac14",
   "metadata": {},
   "source": [
    "***YA SE CAMBIO ARRIBA***"
   ]
  },
  {
   "cell_type": "markdown",
   "id": "2d395432",
   "metadata": {},
   "source": [
    ">     result[f\"{var}_formatted\"] = result.apply(lambda row: f\"{row[mean_col]:,.2f} ± {row[std_col]:,.2f}\", axis=1)"
   ]
  },
  {
   "cell_type": "markdown",
   "id": "b20d594a",
   "metadata": {},
   "source": [
    "> Resulta que la tabla arroja los resultados de miles separados por una coma, para quitarlo se be de quitar de la linea de arriba la coma *,.2f*"
   ]
  },
  {
   "cell_type": "markdown",
   "id": "c381ffbe",
   "metadata": {},
   "source": [
    ">     result[f\"{var}_formatted\"] = result.apply(lambda row: f\"{row[mean_col]:.2f} ± {row[std_col]:.2f}\", axis=1)"
   ]
  },
  {
   "cell_type": "code",
   "execution_count": null,
   "id": "88469d39",
   "metadata": {},
   "outputs": [],
   "source": []
  }
 ],
 "metadata": {
  "kernelspec": {
   "display_name": "Python 3",
   "language": "python",
   "name": "python3"
  },
  "language_info": {
   "codemirror_mode": {
    "name": "ipython",
    "version": 3
   },
   "file_extension": ".py",
   "mimetype": "text/x-python",
   "name": "python",
   "nbconvert_exporter": "python",
   "pygments_lexer": "ipython3",
   "version": "3.13.1"
  }
 },
 "nbformat": 4,
 "nbformat_minor": 5
}
