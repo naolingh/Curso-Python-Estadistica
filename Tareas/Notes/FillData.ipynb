{
 "cells": [
  {
   "cell_type": "markdown",
   "id": "50773e7e",
   "metadata": {},
   "source": [
    "# **Datos faltantes**"
   ]
  },
  {
   "cell_type": "markdown",
   "id": "fc251ca2",
   "metadata": {},
   "source": [
    "## Importamos la base de datos"
   ]
  },
  {
   "cell_type": "code",
   "execution_count": null,
   "id": "ab19ad2a",
   "metadata": {},
   "outputs": [],
   "source": [
    "def import_csv(file):\n",
    "    # Read the file into a DataFrame: df\n",
    "    import pandas as pd\n",
    "    return pd.read_csv(file)"
   ]
  },
  {
   "cell_type": "code",
   "execution_count": null,
   "id": "7f5bf206",
   "metadata": {},
   "outputs": [],
   "source": [
    "# Path to the file to be imported\n",
    "path = \"../Datos/Terminos_lagoon_TA_DIC_2023_RawData.csv\"\n",
    "\n",
    "# Import the file\n",
    "CO2Data = import_csv(path)"
   ]
  },
  {
   "cell_type": "markdown",
   "id": "55ae3cf3",
   "metadata": {},
   "source": [
    "## Exploramos la base de datos"
   ]
  },
  {
   "cell_type": "code",
   "execution_count": null,
   "id": "dd9bf649",
   "metadata": {},
   "outputs": [],
   "source": [
    "# Imprime el número de caldas y columnas del DataFrame\n",
    "print(CO2Data.shape)"
   ]
  },
  {
   "cell_type": "code",
   "execution_count": null,
   "id": "bbbdbcc1",
   "metadata": {},
   "outputs": [],
   "source": [
    "# Imprime los encabezados del DataFrame\n",
    "print(CO2Data.head())"
   ]
  },
  {
   "cell_type": "markdown",
   "id": "bf49019a",
   "metadata": {},
   "source": [
    "- Imprime información sobre el DataFrame incluido el índice dtype y las columnas, los valores no nulos y el uso de la memoria"
   ]
  },
  {
   "cell_type": "code",
   "execution_count": null,
   "id": "1f73ac50",
   "metadata": {},
   "outputs": [],
   "source": [
    "# Imprime información sobre el DataFrame\n",
    "print(CO2Data.info())"
   ]
  },
  {
   "cell_type": "markdown",
   "id": "b04b9aec",
   "metadata": {},
   "source": [
    "- Imprime la estadistica descriptiva del DataFrame"
   ]
  },
  {
   "cell_type": "code",
   "execution_count": null,
   "id": "161307bf",
   "metadata": {},
   "outputs": [],
   "source": [
    "# Print descriptive statistics\n",
    "print(CO2Data.describe())"
   ]
  },
  {
   "cell_type": "markdown",
   "id": "c5285038",
   "metadata": {},
   "source": [
    "## **Valores faltantes en cada columna**"
   ]
  },
  {
   "cell_type": "code",
   "execution_count": null,
   "id": "e1175217",
   "metadata": {},
   "outputs": [],
   "source": [
    "# Usando la función insull() de Pandas para identificar el número de valores faltantes en cada columna\n",
    "print(CO2Data.isnull().sum())"
   ]
  },
  {
   "cell_type": "markdown",
   "id": "76ec7c32",
   "metadata": {},
   "source": [
    "### Método para rellenar huecos en las series reindexadas\n",
    "\n",
    "- ffill: propaga la última observación válida a la sigueinte\n",
    "\n",
    "- bfill: utiliza la siguiente observación válida para rellenar huecos"
   ]
  },
  {
   "cell_type": "code",
   "execution_count": null,
   "id": "5951a697",
   "metadata": {},
   "outputs": [],
   "source": [
    "# Creamos una nueva base de datos (copia)\n",
    "CO2Data_fill = CO2Data.copy()\n",
    "\n",
    "# Usamos el método ffill\n",
    "CO2Data_fill = CO2Data_fill.fillna(method=\"ffill\")\n",
    "\n",
    "print(CO2Data_fill.isnull().sum())"
   ]
  },
  {
   "cell_type": "markdown",
   "id": "d6ca72f6",
   "metadata": {},
   "source": [
    "Se creo una copia de la base de datos para rellenar los huecos con el método ffill llamada CO2Data_fill "
   ]
  },
  {
   "cell_type": "markdown",
   "id": "ba271e08",
   "metadata": {},
   "source": [
    "### Interpolación para rellenar datos faltantes\n",
    "\n",
    "- Copiamos el DataFrame original para no tocarlo\n",
    "- Que rellene los datos faltantes por interpolación lineal\n",
    "- Imprime cuantos valores faltantes quedarón"
   ]
  },
  {
   "cell_type": "code",
   "execution_count": null,
   "id": "40c4eacb",
   "metadata": {},
   "outputs": [],
   "source": [
    "CO2Data_fill_linear = CO2Data.copy()\n",
    "\n",
    "CO2Data_fill_linear = CO2Data_fill_linear.interpolate(method='linear')\n",
    "\n",
    "print(CO2Data_fill_linear.isnull().sum())"
   ]
  },
  {
   "cell_type": "markdown",
   "id": "8a760f81",
   "metadata": {},
   "source": [
    "#### ¿Cómo funciona la interpolación lineal?\n",
    "\n",
    "- Mira los valores que faltan en las columnas\n",
    "- Para cada valor faltante calcula su valor como una linea recta entre el valor anterior y el siguiente disponible\n",
    "- Este método es **ideal** cuando los **datos** son **continuos** y se quiere ***mantener la tendencia*** \n",
    "- Pandas tiene otro métodos de interpolación como el *polynomial*, *spline*, *time*, etc según como se quieran estimar los valores faltnates"
   ]
  }
 ],
 "metadata": {
  "kernelspec": {
   "display_name": "Python 3",
   "language": "python",
   "name": "python3"
  },
  "language_info": {
   "codemirror_mode": {
    "name": "ipython",
    "version": 3
   },
   "file_extension": ".py",
   "mimetype": "text/x-python",
   "name": "python",
   "nbconvert_exporter": "python",
   "pygments_lexer": "ipython3",
   "version": "3.13.1"
  }
 },
 "nbformat": 4,
 "nbformat_minor": 5
}
