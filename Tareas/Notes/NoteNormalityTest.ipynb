{
 "cells": [
  {
   "cell_type": "markdown",
   "id": "0ab907b5",
   "metadata": {},
   "source": [
    "# Pruebas de normalidad\n",
    "\n",
    "### Si el valor p de la prueba es mayor que $\\alpha = 0.05$, entonces se supone que los datos tienen una distribución normal"
   ]
  },
  {
   "cell_type": "code",
   "execution_count": 7,
   "id": "14eb5e7c",
   "metadata": {},
   "outputs": [],
   "source": [
    "# importamos librerias\n",
    "import pandas as pd\n",
    "\n",
    "# creamos la función de leer csv y convertirlos en DataFrame\n",
    "def import_csv(file):\n",
    "    return pd.read_csv(file)"
   ]
  },
  {
   "cell_type": "code",
   "execution_count": 11,
   "id": "b300bb00",
   "metadata": {},
   "outputs": [],
   "source": [
    "# creamos la función de la ubicación del csv\n",
    "path = \"../../Datos/Terminos_lagoon_TA_DIC_2023_RawData.csv\"\n",
    "\n",
    "# importamos el archivo\n",
    "CO2Data = import_csv(path)\n",
    "\n",
    "# exploramos el DataFrame\n",
    "#print(CO2Data.head())"
   ]
  },
  {
   "cell_type": "markdown",
   "id": "04704836",
   "metadata": {},
   "source": [
    "- ## Shapiro-Wilk Test\n",
    "Recomendado para muestras menores de 5000 datos"
   ]
  },
  {
   "cell_type": "code",
   "execution_count": 18,
   "id": "da9a0761",
   "metadata": {},
   "outputs": [
    {
     "name": "stdout",
     "output_type": "stream",
     "text": [
      "Estadistico=0.87971, p-valor= 0.0000000907\n",
      "La distribución NO es normal (Se rechaza H0)\n"
     ]
    }
   ],
   "source": [
    "# importamos shapiro desde la libreria de Scipy\n",
    "from scipy.stats import shapiro\n",
    "\n",
    "stat, p = shapiro(CO2Data['ta_micromol_kg'])\n",
    "print(f'Estadistico={stat:.5f}, p-valor= {p:.10f}')\n",
    "\n",
    "if p > 0.05:\n",
    "    print(\"La distribución es normal (no se rechaza H0)\")\n",
    "else:\n",
    "    print(\"La distribución NO es normal (Se rechaza H0)\")"
   ]
  }
 ],
 "metadata": {
  "kernelspec": {
   "display_name": "Python 3",
   "language": "python",
   "name": "python3"
  },
  "language_info": {
   "codemirror_mode": {
    "name": "ipython",
    "version": 3
   },
   "file_extension": ".py",
   "mimetype": "text/x-python",
   "name": "python",
   "nbconvert_exporter": "python",
   "pygments_lexer": "ipython3",
   "version": "3.13.1"
  }
 },
 "nbformat": 4,
 "nbformat_minor": 5
}
